{
 "cells": [
  {
   "cell_type": "code",
   "execution_count": 1,
   "metadata": {},
   "outputs": [],
   "source": [
    "import pandas as pd\n",
    "import numpy as np\n",
    "import matplotlib.pyplot as plt\n",
    "import seaborn\n",
    "\n",
    "from sklearn.metrics import accuracy_score\n",
    "from sklearn.metrics import f1_score   \n",
    "from sklearn.metrics import precision_score\n",
    "from sklearn.metrics import recall_score\n",
    "\n",
    "from xgboost import XGBClassifier"
   ]
  },
  {
   "cell_type": "code",
   "execution_count": 2,
   "metadata": {},
   "outputs": [],
   "source": [
    "%run model_builder.py\n",
    "%run utils.py"
   ]
  },
  {
   "cell_type": "code",
   "execution_count": null,
   "metadata": {},
   "outputs": [],
   "source": []
  },
  {
   "cell_type": "code",
   "execution_count": 3,
   "metadata": {},
   "outputs": [],
   "source": [
    "admissions_bachelor = pd.read_csv('datasets/bachelor_data.csv')\n",
    "admissions_bachelor.set_index('AIS_ID', inplace = True)\n",
    "admissions_bachelor.dropna(inplace=True)"
   ]
  },
  {
   "cell_type": "code",
   "execution_count": null,
   "metadata": {},
   "outputs": [],
   "source": []
  },
  {
   "cell_type": "code",
   "execution_count": 4,
   "metadata": {},
   "outputs": [],
   "source": [
    "# attendance removal\n",
    "admissions_bachelor = admissions_bachelor.loc[:,~admissions_bachelor.columns.str.startswith('attd_')]"
   ]
  },
  {
   "cell_type": "code",
   "execution_count": 5,
   "metadata": {},
   "outputs": [],
   "source": [
    "# grades removal\n",
    "subject_cols = ['FYZ_B', 'OOP_B', 'PAM_B', 'PRPR_B', 'ZPRPR2_B', 'TZIV_B', 'ADM_B', 'AJ_B', 'MA_B', 'MIP_B', 'PPI_B']\n",
    "admissions_bachelor.drop(subject_cols, axis=1, inplace=True)"
   ]
  },
  {
   "cell_type": "code",
   "execution_count": null,
   "metadata": {},
   "outputs": [],
   "source": []
  },
  {
   "cell_type": "code",
   "execution_count": 6,
   "metadata": {},
   "outputs": [],
   "source": [
    "independent_variable = 'end_type'\n",
    "y = admissions_bachelor[independent_variable]\n",
    "X = admissions_bachelor.drop(columns=[independent_variable])"
   ]
  },
  {
   "cell_type": "code",
   "execution_count": 7,
   "metadata": {},
   "outputs": [],
   "source": [
    "# old index removal\n",
    "X.drop('Unnamed: 0', axis=1, inplace=True)"
   ]
  },
  {
   "cell_type": "code",
   "execution_count": null,
   "metadata": {},
   "outputs": [],
   "source": []
  },
  {
   "cell_type": "code",
   "execution_count": 8,
   "metadata": {},
   "outputs": [],
   "source": [
    "attrs_to_drop = ['study_programme',  'VŠP_štúdium', 'graduation_year'] #\n",
    "\n",
    "X.drop(attrs_to_drop, axis=1, inplace=True)"
   ]
  },
  {
   "cell_type": "code",
   "execution_count": 9,
   "metadata": {},
   "outputs": [],
   "source": [
    "# Parameters doc\n",
    "# https://xgboost.readthedocs.io/en/latest/parameter.html\n",
    "\n",
    "clf = XGBClassifier()\n",
    "cv_params = {\n",
    "    'max_depth': range(3,10,2),\n",
    "    'min_child_weight': range(1,6,2),\n",
    "    'gamma': [i/10.0 for i in range(0,5)],\n",
    "}"
   ]
  },
  {
   "cell_type": "code",
   "execution_count": null,
   "metadata": {},
   "outputs": [],
   "source": []
  },
  {
   "cell_type": "code",
   "execution_count": 10,
   "metadata": {},
   "outputs": [
    {
     "name": "stdout",
     "output_type": "stream",
     "text": [
      "Fitting optimization...\n",
      "Fitting 10 folds for each of 60 candidates, totalling 600 fits\n"
     ]
    },
    {
     "name": "stderr",
     "output_type": "stream",
     "text": [
      "[Parallel(n_jobs=-1)]: Using backend LokyBackend with 12 concurrent workers.\n",
      "[Parallel(n_jobs=-1)]: Done  26 tasks      | elapsed:    1.9s\n",
      "[Parallel(n_jobs=-1)]: Done 176 tasks      | elapsed:    4.8s\n",
      "[Parallel(n_jobs=-1)]: Done 426 tasks      | elapsed:    9.8s\n",
      "[Parallel(n_jobs=-1)]: Done 600 out of 600 | elapsed:   14.1s finished\n"
     ]
    }
   ],
   "source": [
    "model_xgboost = ModelBuilder(clf, X, y)\\\n",
    "    .test_train_split(0.2)\\\n",
    "    .tune_hyperparameters(cv_params)\\\n",
    "    .train_model_with_optimization()\\\n",
    "    .predict()\\\n",
    "    .build()"
   ]
  },
  {
   "cell_type": "code",
   "execution_count": null,
   "metadata": {},
   "outputs": [],
   "source": []
  },
  {
   "cell_type": "code",
   "execution_count": 11,
   "metadata": {},
   "outputs": [
    {
     "data": {
      "text/plain": [
       "{'gamma': 0.3, 'max_depth': 3, 'min_child_weight': 1}"
      ]
     },
     "execution_count": 11,
     "metadata": {},
     "output_type": "execute_result"
    }
   ],
   "source": [
    "model_xgboost.optimization.best_params_"
   ]
  },
  {
   "cell_type": "code",
   "execution_count": 13,
   "metadata": {},
   "outputs": [
    {
     "name": "stdout",
     "output_type": "stream",
     "text": [
      "0.8225255972696246\n"
     ]
    }
   ],
   "source": [
    "print(accuracy_score(model_xgboost.test_y, model_xgboost.pred_y))"
   ]
  },
  {
   "cell_type": "code",
   "execution_count": 14,
   "metadata": {},
   "outputs": [
    {
     "name": "stdout",
     "output_type": "stream",
     "text": [
      "0.8355968045112782\n",
      "0.8499705968832696\n",
      "0.8217761557177616\n"
     ]
    }
   ],
   "source": [
    "print(precision_score(model_xgboost.test_y, model_xgboost.pred_y, average='macro'))\n",
    "print(recall_score(model_xgboost.test_y, model_xgboost.pred_y, average='macro'))\n",
    "print(f1_score(model_xgboost.test_y, model_xgboost.pred_y, average='macro'))"
   ]
  },
  {
   "cell_type": "code",
   "execution_count": null,
   "metadata": {},
   "outputs": [],
   "source": []
  },
  {
   "cell_type": "code",
   "execution_count": 15,
   "metadata": {},
   "outputs": [
    {
     "name": "stdout",
     "output_type": "stream",
     "text": [
      "0.8225255972696246\n",
      "0.8225255972696246\n",
      "0.8225255972696246\n"
     ]
    }
   ],
   "source": [
    "print(precision_score(model_xgboost.test_y, model_xgboost.pred_y, average='micro'))\n",
    "print(recall_score(model_xgboost.test_y, model_xgboost.pred_y, average='micro'))\n",
    "print(f1_score(model_xgboost.test_y, model_xgboost.pred_y, average='micro'))"
   ]
  },
  {
   "cell_type": "code",
   "execution_count": null,
   "metadata": {},
   "outputs": [],
   "source": []
  },
  {
   "cell_type": "code",
   "execution_count": 16,
   "metadata": {},
   "outputs": [
    {
     "name": "stdout",
     "output_type": "stream",
     "text": [
      "0.804 & 0.803 & 0.803 & 0.803 \\\\\n",
      "0.784 & 0.776 & 0.776 & 0.774 \\\\\n",
      "0.779 & 0.769 & 0.769 & 0.767 \\\\\n",
      "0.817 & 0.815 & 0.815 & 0.815 \\\\\n",
      "0.828 & 0.808 & 0.808 & 0.805 \\\\\n",
      "0.815 & 0.815 & 0.815 & 0.815 \\\\\n",
      "0.817 & 0.808 & 0.808 & 0.807 \\\\\n",
      "0.770 & 0.753 & 0.753 & 0.750 \\\\\n",
      "0.815 & 0.801 & 0.801 & 0.799 \\\\\n",
      "0.850 & 0.842 & 0.842 & 0.842 \\\\\n",
      "0.808 & 0.799 & 0.799 & 0.798 \\\\\n"
     ]
    }
   ],
   "source": [
    "make_stratified_k_fold(10, XGBClassifier(**model_xgboost.optimization.best_params_), X, y)"
   ]
  },
  {
   "cell_type": "code",
   "execution_count": 17,
   "metadata": {},
   "outputs": [
    {
     "data": {
      "image/png": "[encoded data removed]",
      "text/plain": [
       "<Figure size 432x288 with 1 Axes>"
      ]
     },
     "metadata": {
      "needs_background": "light"
     },
     "output_type": "display_data"
    }
   ],
   "source": [
    "create_roc_curve(10, XGBClassifier(**model_xgboost.optimization.best_params_), X, y)"
   ]
  },
  {
   "cell_type": "code",
   "execution_count": null,
   "metadata": {},
   "outputs": [],
   "source": []
  },
  {
   "cell_type": "code",
   "execution_count": 18,
   "metadata": {},
   "outputs": [
    {
     "data": {
      "image/png": "[encoded data removed]",
      "text/plain": [
       "<Figure size 432x288 with 1 Axes>"
      ]
     },
     "metadata": {
      "needs_background": "light"
     },
     "output_type": "display_data"
    }
   ],
   "source": [
    "features = model_xgboost.train_X.columns\n",
    "importances = model_xgboost.clf.feature_importances_\n",
    "indices = np.argsort(importances)\n",
    "\n",
    "plt.title('Feature Importances')\n",
    "plt.barh(range(len(indices)), importances[indices], color='b', align='center')\n",
    "plt.yticks(range(len(indices)), [features[i] for i in indices])\n",
    "plt.xlabel('Relative Importance')\n",
    "plt.show()"
   ]
  },
  {
   "cell_type": "code",
   "execution_count": null,
   "metadata": {},
   "outputs": [],
   "source": []
  },
  {
   "cell_type": "code",
   "execution_count": null,
   "metadata": {},
   "outputs": [],
   "source": []
  }
 ],
 "metadata": {
  "kernelspec": {
   "display_name": "Python 3",
   "language": "python",
   "name": "python3"
  },
  "language_info": {
   "codemirror_mode": {
    "name": "ipython",
    "version": 3
   },
   "file_extension": ".py",
   "mimetype": "text/x-python",
   "name": "python",
   "nbconvert_exporter": "python",
   "pygments_lexer": "ipython3",
   "version": "3.6.10"
  }
 },
 "nbformat": 4,
 "nbformat_minor": 4
}

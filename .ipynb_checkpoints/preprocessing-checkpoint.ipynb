{
 "cells": [
  {
   "cell_type": "code",
   "execution_count": 2,
   "metadata": {},
   "outputs": [],
   "source": [
    "import pandas as pd\n",
    "import numpy as np\n",
    "import matplotlib.pyplot as plt"
   ]
  },
  {
   "cell_type": "markdown",
   "metadata": {},
   "source": [
    "# Načítanie dát z databázy"
   ]
  },
  {
   "cell_type": "code",
   "execution_count": 3,
   "metadata": {},
   "outputs": [
    {
     "ename": "ModuleNotFoundError",
     "evalue": "No module named 'psycopg2'",
     "output_type": "error",
     "traceback": [
      "\u001b[0;31m---------------------------------------------------------------------------\u001b[0m",
      "\u001b[0;31mModuleNotFoundError\u001b[0m                       Traceback (most recent call last)",
      "\u001b[0;32m~/Documents/development/school/diploma_thesis/database_import.py\u001b[0m in \u001b[0;36m<module>\u001b[0;34m\u001b[0m\n\u001b[1;32m      1\u001b[0m \u001b[0;32mimport\u001b[0m \u001b[0mpandas\u001b[0m \u001b[0;32mas\u001b[0m \u001b[0mpd\u001b[0m\u001b[0;34m\u001b[0m\u001b[0;34m\u001b[0m\u001b[0m\n\u001b[0;32m----> 2\u001b[0;31m \u001b[0;32mimport\u001b[0m \u001b[0mpsycopg2\u001b[0m\u001b[0;34m\u001b[0m\u001b[0;34m\u001b[0m\u001b[0m\n\u001b[0m\u001b[1;32m      3\u001b[0m \u001b[0;34m\u001b[0m\u001b[0m\n\u001b[1;32m      4\u001b[0m \u001b[0;32mtry\u001b[0m\u001b[0;34m:\u001b[0m\u001b[0;34m\u001b[0m\u001b[0;34m\u001b[0m\u001b[0m\n\u001b[1;32m      5\u001b[0m     connection = psycopg2.connect(\n",
      "\u001b[0;31mModuleNotFoundError\u001b[0m: No module named 'psycopg2'"
     ]
    }
   ],
   "source": [
    "%run database_import.py"
   ]
  },
  {
   "cell_type": "markdown",
   "metadata": {},
   "source": [
    "# Ukážka dát"
   ]
  },
  {
   "cell_type": "code",
   "execution_count": 4,
   "metadata": {},
   "outputs": [
    {
     "ename": "NameError",
     "evalue": "name 'grades_counts' is not defined",
     "output_type": "error",
     "traceback": [
      "\u001b[0;31m---------------------------------------------------------------------------\u001b[0m",
      "\u001b[0;31mNameError\u001b[0m                                 Traceback (most recent call last)",
      "\u001b[0;32m<ipython-input-4-d67c347584fc>\u001b[0m in \u001b[0;36m<module>\u001b[0;34m\u001b[0m\n\u001b[0;32m----> 1\u001b[0;31m \u001b[0mgrades_counts\u001b[0m\u001b[0;34m.\u001b[0m\u001b[0mhead\u001b[0m\u001b[0;34m(\u001b[0m\u001b[0;34m)\u001b[0m\u001b[0;34m\u001b[0m\u001b[0;34m\u001b[0m\u001b[0m\n\u001b[0m",
      "\u001b[0;31mNameError\u001b[0m: name 'grades_counts' is not defined"
     ]
    }
   ],
   "source": [
    "grades_counts.head()"
   ]
  },
  {
   "cell_type": "code",
   "execution_count": null,
   "metadata": {},
   "outputs": [],
   "source": [
    "grades_counts.shape"
   ]
  },
  {
   "cell_type": "code",
   "execution_count": null,
   "metadata": {},
   "outputs": [],
   "source": [
    "grades.head()"
   ]
  },
  {
   "cell_type": "code",
   "execution_count": null,
   "metadata": {},
   "outputs": [],
   "source": [
    "grades.shape"
   ]
  },
  {
   "cell_type": "code",
   "execution_count": null,
   "metadata": {},
   "outputs": [],
   "source": [
    "admissions.head()"
   ]
  },
  {
   "cell_type": "code",
   "execution_count": null,
   "metadata": {},
   "outputs": [],
   "source": [
    "admissions.shape"
   ]
  },
  {
   "cell_type": "code",
   "execution_count": null,
   "metadata": {},
   "outputs": [],
   "source": [
    "attendances"
   ]
  },
  {
   "cell_type": "code",
   "execution_count": null,
   "metadata": {},
   "outputs": [],
   "source": [
    "school_total_ratings.shape"
   ]
  },
  {
   "cell_type": "code",
   "execution_count": null,
   "metadata": {},
   "outputs": [],
   "source": [
    "school_total_ratings"
   ]
  },
  {
   "cell_type": "markdown",
   "metadata": {},
   "source": [
    "# Predspracovanie dát"
   ]
  },
  {
   "cell_type": "markdown",
   "metadata": {},
   "source": [
    "## School_total_ratings"
   ]
  },
  {
   "cell_type": "code",
   "execution_count": null,
   "metadata": {},
   "outputs": [],
   "source": [
    "# odstránime riadky ktoré obsahujú len prázdne hodnoty\n",
    "school_total_ratings = school_total_ratings.dropna()"
   ]
  },
  {
   "cell_type": "code",
   "execution_count": null,
   "metadata": {},
   "outputs": [],
   "source": [
    "# nastavenie správnych dátových typov pre atrbúty v to_be_numeric poli\n",
    "to_be_numeric = [\n",
    "    'school_general_rating', 'school_math_rating',\n",
    "    'school_foreign_lang_rating', 'school_university_admissions_rating',\n",
    "    'school_finance_sources_rating'\n",
    "]\n",
    "school_total_ratings[to_be_numeric] = school_total_ratings[to_be_numeric].apply(pd.to_numeric)"
   ]
  },
  {
   "cell_type": "code",
   "execution_count": null,
   "metadata": {},
   "outputs": [],
   "source": [
    "school_total_ratings.info()"
   ]
  },
  {
   "cell_type": "code",
   "execution_count": null,
   "metadata": {},
   "outputs": [],
   "source": [
    "school_total_ratings.head()"
   ]
  },
  {
   "cell_type": "markdown",
   "metadata": {},
   "source": [
    "## Attendances\n"
   ]
  },
  {
   "cell_type": "code",
   "execution_count": null,
   "metadata": {},
   "outputs": [],
   "source": [
    "adjusted_attendances = pd.DataFrame(columns = ['AIS_ID', *[f'attd_{attd}' for attd in attendances['KOD'].unique()]])\n",
    "adjusted_attendances['AIS_ID'] = pd.Series(attendances['AIS_ID'].unique())\n",
    "\n",
    "adjusted_attendances = adjusted_attendances.set_index('AIS_ID')\n",
    "\n",
    "for attendance in attendances[['AIS_ID', 'KOD', 'count']].values.tolist():\n",
    "    adjusted_attendances.at[attendance[0], f'attd_{attendance[1]}'] = attendance[2] \n",
    "    \n",
    "adjusted_attendances.head()"
   ]
  },
  {
   "cell_type": "code",
   "execution_count": null,
   "metadata": {},
   "outputs": [],
   "source": [
    "# chýbajúce hodnoty nahradíme hodnotou 0\n",
    "adjusted_attendances.fillna(0, inplace = True)"
   ]
  },
  {
   "cell_type": "code",
   "execution_count": null,
   "metadata": {},
   "outputs": [],
   "source": [
    "# v dochádzke chceme mať len predmety z prvého roka štúdia\n",
    "first_year_subjects_bachelor = [\n",
    "    'attd_FYZ_B', 'attd_OOP_B', 'attd_PRPR_B', 'attd_ZPRPR2_B',\n",
    "    'attd_TZIV_B', 'attd_ADM_B', 'attd_AJ_B', 'attd_MA_B', 'attd_MIP_B', 'attd_PPI_B'\n",
    "]\n",
    "\n",
    "adjusted_attendances_first_year_bachelor = adjusted_attendances[first_year_subjects_bachelor]"
   ]
  },
  {
   "cell_type": "code",
   "execution_count": null,
   "metadata": {},
   "outputs": [],
   "source": [
    "adjusted_attendances_first_year_bachelor"
   ]
  },
  {
   "cell_type": "markdown",
   "metadata": {},
   "source": [
    "## Grades"
   ]
  },
  {
   "cell_type": "code",
   "execution_count": null,
   "metadata": {},
   "outputs": [],
   "source": [
    "# odstránenie nepotrebných atribútov zo známok\n",
    "unnecessary_columns_grades = [\n",
    "    'id', 'RCS', 'PREDMET'\n",
    "]\n",
    "\n",
    "grades.drop(unnecessary_columns_grades, axis=1, inplace = True)"
   ]
  },
  {
   "cell_type": "code",
   "execution_count": null,
   "metadata": {},
   "outputs": [],
   "source": [
    "# vytvorenie nového datasetu, kde predmety budú stĺpce\n",
    "adjusted_grades = pd.DataFrame(columns = ['AIS_ID', *grades['KOD'].unique()])\n",
    "adjusted_grades['AIS_ID'] = pd.Series(grades['AIS_ID'].unique())\n",
    "\n",
    "# nastavenie 'AIS_ID' ako index\n",
    "adjusted_grades = adjusted_grades.set_index('AIS_ID')\n",
    "\n",
    "# fill dataframe with grades\n",
    "for grade in grades[['AIS_ID', 'KOD', 'PREDMET_VYSLEDOK']].values.tolist():\n",
    "    adjusted_grades.at[grade[0], grade[1]] = grade[2] \n",
    "    \n",
    "adjusted_grades.head()"
   ]
  },
  {
   "cell_type": "code",
   "execution_count": null,
   "metadata": {},
   "outputs": [],
   "source": [
    "# odstránenie nedôležitých predmetov\n",
    "other_subjects = [\n",
    "    'TK_Z', 'TK_L', 'VYBER_TK', # Telesná kultúra\n",
    "    'ZP_B', 'KDK_B'\n",
    "]\n",
    "adjusted_grades.drop(other_subjects, axis = 1, inplace = True)"
   ]
  },
  {
   "cell_type": "code",
   "execution_count": null,
   "metadata": {},
   "outputs": [],
   "source": [
    "# odstránenie všetkých prázdných atribútov\n",
    "adjusted_grades.dropna(how = 'all', axis = 1, inplace = True)"
   ]
  },
  {
   "cell_type": "code",
   "execution_count": null,
   "metadata": {},
   "outputs": [],
   "source": [
    "# zmena známky na jej číselnú reprezentáciu\n",
    "grade_numeric_representation = {\n",
    "    'A': 1,\n",
    "    'B': 1.5,\n",
    "    'C': 2, \n",
    "    'D': 2.5,\n",
    "    'E': 3,\n",
    "    'FX': 4,\n",
    "    'FN': 4\n",
    "}\n",
    "\n",
    "adjusted_grades.replace(grade_numeric_representation, inplace = True)"
   ]
  },
  {
   "cell_type": "code",
   "execution_count": null,
   "metadata": {},
   "outputs": [],
   "source": [
    "# každá známka ktorá chýba je zmenená na 0\n",
    "adjusted_grades.fillna(0, inplace = True)"
   ]
  },
  {
   "cell_type": "code",
   "execution_count": null,
   "metadata": {},
   "outputs": [],
   "source": [
    "# TODO: change replacement logic\n",
    "adjusted_grades.replace({'Z': 0}, inplace = True)"
   ]
  },
  {
   "cell_type": "code",
   "execution_count": null,
   "metadata": {
    "scrolled": false
   },
   "outputs": [],
   "source": [
    "adjusted_grades.head()"
   ]
  },
  {
   "cell_type": "code",
   "execution_count": null,
   "metadata": {},
   "outputs": [],
   "source": [
    "# do úvahy berieme iba predmety z prvého ročníka\n",
    "first_year_subjects_bachelor = [\n",
    "    'FYZ_B', 'OOP_B', 'PAM_B', 'PRPR_B', 'ZPRPR2_B',\n",
    "    'TZIV_B', 'ADM_B', 'AJ_B', 'MA_B', 'MIP_B', 'PPI_B'\n",
    "]\n",
    "\n",
    "adjusted_grades_first_year_bachelor = adjusted_grades[first_year_subjects_bachelor]"
   ]
  },
  {
   "cell_type": "code",
   "execution_count": null,
   "metadata": {},
   "outputs": [],
   "source": [
    "# TODO: add values from ZPRPR2 to PRPR, but only in places, where PRPR is 0.0"
   ]
  },
  {
   "cell_type": "markdown",
   "metadata": {},
   "source": [
    "## Admissions"
   ]
  },
  {
   "cell_type": "markdown",
   "metadata": {},
   "source": [
    "V tejto fáze sa budeme zameriavať na to, aby dáta načítané z databázy boli upravené do podoby, aby bolo možné ich použiť na rôzne typy analýzy a predikcie."
   ]
  },
  {
   "cell_type": "code",
   "execution_count": null,
   "metadata": {},
   "outputs": [],
   "source": [
    "# odstránenie prázdnych atribútov\n",
    "admissions.dropna(how = 'all', axis = 1, inplace = True)"
   ]
  },
  {
   "cell_type": "code",
   "execution_count": null,
   "metadata": {},
   "outputs": [],
   "source": [
    "admissions.head()"
   ]
  },
  {
   "cell_type": "code",
   "execution_count": null,
   "metadata": {},
   "outputs": [],
   "source": [
    "# výpis dátových typov v jednotlivých atribútoch\n",
    "admissions.info(verbose = True)"
   ]
  },
  {
   "cell_type": "code",
   "execution_count": null,
   "metadata": {},
   "outputs": [],
   "source": [
    "# nastavenie správnych dátových typov pre atrbúty v to_be_numeric poli\n",
    "to_be_numeric = [\n",
    "    'Externá_maturita_z_cudzieho_jazyka_ECJ', 'Externá_maturita_z_matematiky_EM', \n",
    "    'Písomný_test_z_matematiky_SCIO_PTM', 'Všeobecné_študijné_predpoklady_SCIO_VŠP',\n",
    "    'Priem_bc', \n",
    "    'Priemer_SŠ', \n",
    "    'Priemer_SŠ_1', \n",
    "    'Body', 'Body_celkom',\n",
    "    'VŠP_štúdium'\n",
    "]\n",
    "\n",
    "for col in to_be_numeric:\n",
    "    if col in admissions.columns:\n",
    "        for index in range(len(admissions[col])):\n",
    "            if isinstance(admissions[col][index], str):\n",
    "                admissions[col][index] = float(admissions[col][index].replace(\",\", \".\"))\n",
    "\n",
    "        admissions[col].fillna(value = 0, inplace = True)\n",
    "        admissions[col] = admissions[col].astype('float64')"
   ]
  },
  {
   "cell_type": "code",
   "execution_count": null,
   "metadata": {},
   "outputs": [],
   "source": [
    "# odstránenie všetkých atribútov s rovnakými hodnotami v každom riadku\n",
    "nunique = admissions.apply(pd.Series.nunique)\n",
    "cols_to_drop = nunique[nunique == 1].index\n",
    "admissions.drop(cols_to_drop, axis=1, inplace = True)\n",
    "\n",
    "admissions.head()"
   ]
  },
  {
   "cell_type": "code",
   "execution_count": null,
   "metadata": {},
   "outputs": [],
   "source": [
    "admissions.info(verbose = True)"
   ]
  },
  {
   "cell_type": "code",
   "execution_count": null,
   "metadata": {},
   "outputs": [],
   "source": [
    "# date_of_birth -> age\n",
    "from datetime import date\n",
    "\n",
    "def calculate_age(born):\n",
    "    born = [int(str) for str in born]\n",
    "    today = date.today()\n",
    "    return today.year - born[2] - ((today.month, today.day) < (born[1], born[0]))\n",
    "\n",
    "admissions['Narodenie'] = admissions['Narodenie'].str.split('. ').apply(calculate_age) # 11. 05. 1992"
   ]
  },
  {
   "cell_type": "code",
   "execution_count": null,
   "metadata": {},
   "outputs": [],
   "source": [
    "# zmena prázdnych hodnôt na 0 v 'Exb_celk'\n",
    "admissions['Exb_celk'].fillna(0, inplace = True)"
   ]
  },
  {
   "cell_type": "code",
   "execution_count": null,
   "metadata": {},
   "outputs": [],
   "source": [
    "# pretypovanie 'Exb_celk' na float\n",
    "admissions['Exb_celk'] = admissions['Exb_celk'].astype('float64')"
   ]
  },
  {
   "cell_type": "code",
   "execution_count": null,
   "metadata": {},
   "outputs": [],
   "source": [
    "if 'Odvolanie' in admissions:\n",
    "    admissions['Odvolanie'].replace({'nie': False, 'áno': True}, inplace=True)"
   ]
  },
  {
   "cell_type": "code",
   "execution_count": null,
   "metadata": {},
   "outputs": [],
   "source": [
    "admissions.head()"
   ]
  },
  {
   "cell_type": "code",
   "execution_count": null,
   "metadata": {},
   "outputs": [],
   "source": [
    "# odstránenie riadkov kde 'AIS_ID' je NaN (títo študenti nenastúpili na štúdium)\n",
    "admissions = admissions[np.isfinite(admissions['AIS_ID'])]\n",
    "\n",
    "# odstránenie desatinných miest z 'AIS_ID'\n",
    "admissions = admissions.astype({'AIS_ID': 'int64'})\n",
    "\n",
    "# nastavenie 'AIS_ID' ako index v prihláškach\n",
    "admissions = admissions.set_index('AIS_ID')"
   ]
  },
  {
   "cell_type": "code",
   "execution_count": null,
   "metadata": {},
   "outputs": [],
   "source": [
    "admissions.rename(columns = {\n",
    "    'Body': 'admission_points', \n",
    "    'Exb_celk': 'admissions_points_ext',\n",
    "    'Najvyššie_dosiahnuté_vzdelanie': 'education_achieved',\n",
    "    'Pohlavie': 'sex',\n",
    "    'Občianstvo': 'nationality',\n",
    "    'Odkiaľ_sa_hlási': 'admission_from',\n",
    "    'Program': 'study_programme',\n",
    "    'Odvolanie': 'appeal',\n",
    "    'Narodenie': 'age',\n",
    "    'Typ_ukončenia': 'end_type'\n",
    "}, inplace = True)"
   ]
  },
  {
   "cell_type": "code",
   "execution_count": 1,
   "metadata": {},
   "outputs": [
    {
     "ename": "NameError",
     "evalue": "name 'admissions' is not defined",
     "output_type": "error",
     "traceback": [
      "\u001b[0;31m---------------------------------------------------------------------------\u001b[0m",
      "\u001b[0;31mNameError\u001b[0m                                 Traceback (most recent call last)",
      "\u001b[0;32m<ipython-input-1-b93d5eeaa2f9>\u001b[0m in \u001b[0;36m<module>\u001b[0;34m\u001b[0m\n\u001b[1;32m      1\u001b[0m \u001b[0;31m# zmena admissions_points_ext na binarny atribut\u001b[0m\u001b[0;34m\u001b[0m\u001b[0;34m\u001b[0m\u001b[0;34m\u001b[0m\u001b[0m\n\u001b[0;32m----> 2\u001b[0;31m \u001b[0madmissions\u001b[0m\u001b[0;34m[\u001b[0m\u001b[0;34m'admissions_points_ext'\u001b[0m\u001b[0;34m]\u001b[0m\u001b[0;34m\u001b[0m\u001b[0;34m\u001b[0m\u001b[0m\n\u001b[0m",
      "\u001b[0;31mNameError\u001b[0m: name 'admissions' is not defined"
     ]
    }
   ],
   "source": [
    "# zmena admissions_points_ext na binarny atribut\n",
    "admissions['admissions_points_ext']"
   ]
  },
  {
   "cell_type": "markdown",
   "metadata": {},
   "source": [
    "### Odstránenie vychýlených hodnôt"
   ]
  },
  {
   "cell_type": "code",
   "execution_count": 49,
   "metadata": {},
   "outputs": [
    {
     "data": {
      "text/html": [
       "<div>\n",
       "<style scoped>\n",
       "    .dataframe tbody tr th:only-of-type {\n",
       "        vertical-align: middle;\n",
       "    }\n",
       "\n",
       "    .dataframe tbody tr th {\n",
       "        vertical-align: top;\n",
       "    }\n",
       "\n",
       "    .dataframe thead th {\n",
       "        text-align: right;\n",
       "    }\n",
       "</style>\n",
       "<table border=\"1\" class=\"dataframe\">\n",
       "  <thead>\n",
       "    <tr style=\"text-align: right;\">\n",
       "      <th></th>\n",
       "      <th>school_id</th>\n",
       "      <th>admission_points</th>\n",
       "      <th>admissions_points_ext</th>\n",
       "      <th>education_achieved</th>\n",
       "      <th>sex</th>\n",
       "      <th>nationality</th>\n",
       "      <th>admission_from</th>\n",
       "      <th>study_programme</th>\n",
       "      <th>age</th>\n",
       "      <th>graduation_year</th>\n",
       "      <th>stupen_studia</th>\n",
       "      <th>appeal</th>\n",
       "      <th>end_type</th>\n",
       "      <th>VŠP_štúdium</th>\n",
       "    </tr>\n",
       "    <tr>\n",
       "      <th>AIS_ID</th>\n",
       "      <th></th>\n",
       "      <th></th>\n",
       "      <th></th>\n",
       "      <th></th>\n",
       "      <th></th>\n",
       "      <th></th>\n",
       "      <th></th>\n",
       "      <th></th>\n",
       "      <th></th>\n",
       "      <th></th>\n",
       "      <th></th>\n",
       "      <th></th>\n",
       "      <th></th>\n",
       "      <th></th>\n",
       "    </tr>\n",
       "  </thead>\n",
       "  <tbody>\n",
       "    <tr>\n",
       "      <th>73645</th>\n",
       "      <td>17050111.0</td>\n",
       "      <td>90.9</td>\n",
       "      <td>0.0</td>\n",
       "      <td>úplné stredné všeobecné vzdelanie na gymnáziu ...</td>\n",
       "      <td>muž</td>\n",
       "      <td>Slovenská republika</td>\n",
       "      <td>Stredná škola</td>\n",
       "      <td>informatika</td>\n",
       "      <td>26</td>\n",
       "      <td>2014.0</td>\n",
       "      <td>Bakalársky</td>\n",
       "      <td>False</td>\n",
       "      <td>úsp. ukončené</td>\n",
       "      <td>2.14</td>\n",
       "    </tr>\n",
       "    <tr>\n",
       "      <th>73646</th>\n",
       "      <td>42262488.0</td>\n",
       "      <td>83.6</td>\n",
       "      <td>0.0</td>\n",
       "      <td>úplné stredné všeobecné vzdelanie na gymnáziu ...</td>\n",
       "      <td>muž</td>\n",
       "      <td>Slovenská republika</td>\n",
       "      <td>Stredná škola</td>\n",
       "      <td>informatika</td>\n",
       "      <td>25</td>\n",
       "      <td>2014.0</td>\n",
       "      <td>Bakalársky</td>\n",
       "      <td>False</td>\n",
       "      <td>úsp. ukončené</td>\n",
       "      <td>2.30</td>\n",
       "    </tr>\n",
       "    <tr>\n",
       "      <th>73647</th>\n",
       "      <td>17337101.0</td>\n",
       "      <td>93.8</td>\n",
       "      <td>0.0</td>\n",
       "      <td>úplné stredné všeobecné vzdelanie na gymnáziu ...</td>\n",
       "      <td>muž</td>\n",
       "      <td>Slovenská republika</td>\n",
       "      <td>Stredná škola</td>\n",
       "      <td>počítačové a komunikačné systémy a siete</td>\n",
       "      <td>25</td>\n",
       "      <td>2014.0</td>\n",
       "      <td>Bakalársky</td>\n",
       "      <td>False</td>\n",
       "      <td>neúsp. ukončené</td>\n",
       "      <td>2.16</td>\n",
       "    </tr>\n",
       "    <tr>\n",
       "      <th>73648</th>\n",
       "      <td>161047.0</td>\n",
       "      <td>78.9</td>\n",
       "      <td>0.0</td>\n",
       "      <td>úplné stredné všeobecné vzdelanie na gymnáziu ...</td>\n",
       "      <td>muž</td>\n",
       "      <td>Slovenská republika</td>\n",
       "      <td>Stredná škola</td>\n",
       "      <td>informatika</td>\n",
       "      <td>25</td>\n",
       "      <td>2014.0</td>\n",
       "      <td>Bakalársky</td>\n",
       "      <td>False</td>\n",
       "      <td>neúsp. ukončené</td>\n",
       "      <td>1.65</td>\n",
       "    </tr>\n",
       "    <tr>\n",
       "      <th>46047</th>\n",
       "      <td>NaN</td>\n",
       "      <td>0.0</td>\n",
       "      <td>0.0</td>\n",
       "      <td>vysokoškolské vzdelanie I. stupeň - bakalárske...</td>\n",
       "      <td>muž</td>\n",
       "      <td>Slovenská republika</td>\n",
       "      <td>Stredná škola</td>\n",
       "      <td>softvérové inžinierstvo</td>\n",
       "      <td>29</td>\n",
       "      <td>NaN</td>\n",
       "      <td>Inžiniersky</td>\n",
       "      <td>False</td>\n",
       "      <td>úsp. ukončené</td>\n",
       "      <td>2.10</td>\n",
       "    </tr>\n",
       "    <tr>\n",
       "      <th>...</th>\n",
       "      <td>...</td>\n",
       "      <td>...</td>\n",
       "      <td>...</td>\n",
       "      <td>...</td>\n",
       "      <td>...</td>\n",
       "      <td>...</td>\n",
       "      <td>...</td>\n",
       "      <td>...</td>\n",
       "      <td>...</td>\n",
       "      <td>...</td>\n",
       "      <td>...</td>\n",
       "      <td>...</td>\n",
       "      <td>...</td>\n",
       "      <td>...</td>\n",
       "    </tr>\n",
       "    <tr>\n",
       "      <th>79819</th>\n",
       "      <td>160661.0</td>\n",
       "      <td>0.0</td>\n",
       "      <td>0.0</td>\n",
       "      <td>vysokoškolské vzdelanie I. stupeň - bakalárske...</td>\n",
       "      <td>muž</td>\n",
       "      <td>Slovenská republika</td>\n",
       "      <td>Vysoká škola</td>\n",
       "      <td>inteligentné softvérové systémy</td>\n",
       "      <td>23</td>\n",
       "      <td>2015.0</td>\n",
       "      <td>Inžiniersky</td>\n",
       "      <td>False</td>\n",
       "      <td>úsp. ukončené</td>\n",
       "      <td>1.61</td>\n",
       "    </tr>\n",
       "    <tr>\n",
       "      <th>75095</th>\n",
       "      <td>17318840.0</td>\n",
       "      <td>0.0</td>\n",
       "      <td>0.0</td>\n",
       "      <td>vysokoškolské vzdelanie I. stupeň - bakalárske...</td>\n",
       "      <td>muž</td>\n",
       "      <td>Slovenská republika</td>\n",
       "      <td>Vysoká škola</td>\n",
       "      <td>inteligentné softvérové systémy</td>\n",
       "      <td>25</td>\n",
       "      <td>2014.0</td>\n",
       "      <td>Inžiniersky</td>\n",
       "      <td>False</td>\n",
       "      <td>úsp. ukončené</td>\n",
       "      <td>1.58</td>\n",
       "    </tr>\n",
       "    <tr>\n",
       "      <th>79826</th>\n",
       "      <td>35607378.0</td>\n",
       "      <td>0.0</td>\n",
       "      <td>0.0</td>\n",
       "      <td>vysokoškolské vzdelanie I. stupeň - bakalárske...</td>\n",
       "      <td>žena</td>\n",
       "      <td>Slovenská republika</td>\n",
       "      <td>Vysoká škola</td>\n",
       "      <td>inteligentné softvérové systémy</td>\n",
       "      <td>24</td>\n",
       "      <td>2015.0</td>\n",
       "      <td>Inžiniersky</td>\n",
       "      <td>False</td>\n",
       "      <td>úsp. ukončené</td>\n",
       "      <td>1.15</td>\n",
       "    </tr>\n",
       "    <tr>\n",
       "      <th>79828</th>\n",
       "      <td>47147.0</td>\n",
       "      <td>0.0</td>\n",
       "      <td>0.0</td>\n",
       "      <td>vysokoškolské vzdelanie I. stupeň - bakalárske...</td>\n",
       "      <td>muž</td>\n",
       "      <td>Slovenská republika</td>\n",
       "      <td>Vysoká škola</td>\n",
       "      <td>inteligentné softvérové systémy</td>\n",
       "      <td>23</td>\n",
       "      <td>2015.0</td>\n",
       "      <td>Inžiniersky</td>\n",
       "      <td>False</td>\n",
       "      <td>úsp. ukončené</td>\n",
       "      <td>1.60</td>\n",
       "    </tr>\n",
       "    <tr>\n",
       "      <th>75026</th>\n",
       "      <td>17050227.0</td>\n",
       "      <td>0.0</td>\n",
       "      <td>0.0</td>\n",
       "      <td>vysokoškolské vzdelanie I. stupeň - bakalárske...</td>\n",
       "      <td>muž</td>\n",
       "      <td>Slovenská republika</td>\n",
       "      <td>Vysoká škola</td>\n",
       "      <td>inteligentné softvérové systémy</td>\n",
       "      <td>25</td>\n",
       "      <td>2014.0</td>\n",
       "      <td>Inžiniersky</td>\n",
       "      <td>False</td>\n",
       "      <td>úsp. ukončené</td>\n",
       "      <td>2.24</td>\n",
       "    </tr>\n",
       "  </tbody>\n",
       "</table>\n",
       "<p>1910 rows × 14 columns</p>\n",
       "</div>"
      ],
      "text/plain": [
       "         school_id  admission_points  admissions_points_ext  \\\n",
       "AIS_ID                                                        \n",
       "73645   17050111.0              90.9                    0.0   \n",
       "73646   42262488.0              83.6                    0.0   \n",
       "73647   17337101.0              93.8                    0.0   \n",
       "73648     161047.0              78.9                    0.0   \n",
       "46047          NaN               0.0                    0.0   \n",
       "...            ...               ...                    ...   \n",
       "79819     160661.0               0.0                    0.0   \n",
       "75095   17318840.0               0.0                    0.0   \n",
       "79826   35607378.0               0.0                    0.0   \n",
       "79828      47147.0               0.0                    0.0   \n",
       "75026   17050227.0               0.0                    0.0   \n",
       "\n",
       "                                       education_achieved   sex  \\\n",
       "AIS_ID                                                            \n",
       "73645   úplné stredné všeobecné vzdelanie na gymnáziu ...   muž   \n",
       "73646   úplné stredné všeobecné vzdelanie na gymnáziu ...   muž   \n",
       "73647   úplné stredné všeobecné vzdelanie na gymnáziu ...   muž   \n",
       "73648   úplné stredné všeobecné vzdelanie na gymnáziu ...   muž   \n",
       "46047   vysokoškolské vzdelanie I. stupeň - bakalárske...   muž   \n",
       "...                                                   ...   ...   \n",
       "79819   vysokoškolské vzdelanie I. stupeň - bakalárske...   muž   \n",
       "75095   vysokoškolské vzdelanie I. stupeň - bakalárske...   muž   \n",
       "79826   vysokoškolské vzdelanie I. stupeň - bakalárske...  žena   \n",
       "79828   vysokoškolské vzdelanie I. stupeň - bakalárske...   muž   \n",
       "75026   vysokoškolské vzdelanie I. stupeň - bakalárske...   muž   \n",
       "\n",
       "                nationality admission_from  \\\n",
       "AIS_ID                                       \n",
       "73645   Slovenská republika  Stredná škola   \n",
       "73646   Slovenská republika  Stredná škola   \n",
       "73647   Slovenská republika  Stredná škola   \n",
       "73648   Slovenská republika  Stredná škola   \n",
       "46047   Slovenská republika  Stredná škola   \n",
       "...                     ...            ...   \n",
       "79819   Slovenská republika   Vysoká škola   \n",
       "75095   Slovenská republika   Vysoká škola   \n",
       "79826   Slovenská republika   Vysoká škola   \n",
       "79828   Slovenská republika   Vysoká škola   \n",
       "75026   Slovenská republika   Vysoká škola   \n",
       "\n",
       "                                 study_programme  age  graduation_year  \\\n",
       "AIS_ID                                                                   \n",
       "73645                                informatika   26           2014.0   \n",
       "73646                                informatika   25           2014.0   \n",
       "73647   počítačové a komunikačné systémy a siete   25           2014.0   \n",
       "73648                                informatika   25           2014.0   \n",
       "46047                    softvérové inžinierstvo   29              NaN   \n",
       "...                                          ...  ...              ...   \n",
       "79819            inteligentné softvérové systémy   23           2015.0   \n",
       "75095            inteligentné softvérové systémy   25           2014.0   \n",
       "79826            inteligentné softvérové systémy   24           2015.0   \n",
       "79828            inteligentné softvérové systémy   23           2015.0   \n",
       "75026            inteligentné softvérové systémy   25           2014.0   \n",
       "\n",
       "       stupen_studia  appeal         end_type  VŠP_štúdium  \n",
       "AIS_ID                                                      \n",
       "73645     Bakalársky   False    úsp. ukončené         2.14  \n",
       "73646     Bakalársky   False    úsp. ukončené         2.30  \n",
       "73647     Bakalársky   False  neúsp. ukončené         2.16  \n",
       "73648     Bakalársky   False  neúsp. ukončené         1.65  \n",
       "46047    Inžiniersky   False    úsp. ukončené         2.10  \n",
       "...              ...     ...              ...          ...  \n",
       "79819    Inžiniersky   False    úsp. ukončené         1.61  \n",
       "75095    Inžiniersky   False    úsp. ukončené         1.58  \n",
       "79826    Inžiniersky   False    úsp. ukončené         1.15  \n",
       "79828    Inžiniersky   False    úsp. ukončené         1.60  \n",
       "75026    Inžiniersky   False    úsp. ukončené         2.24  \n",
       "\n",
       "[1910 rows x 14 columns]"
      ]
     },
     "execution_count": 49,
     "metadata": {},
     "output_type": "execute_result"
    }
   ],
   "source": [
    "admissions"
   ]
  },
  {
   "cell_type": "code",
   "execution_count": 53,
   "metadata": {},
   "outputs": [
    {
     "data": {
      "image/png": "[encoded data removed]",
      "text/plain": [
       "<Figure size 432x288 with 1 Axes>"
      ]
     },
     "metadata": {
      "needs_background": "light"
     },
     "output_type": "display_data"
    }
   ],
   "source": [
    "boxplot = admissions.boxplot(column=['VŠP_štúdium'], return_type='axes')"
   ]
  },
  {
   "cell_type": "code",
   "execution_count": 55,
   "metadata": {},
   "outputs": [
    {
     "data": {
      "image/png": "[encoded data removed]",
      "text/plain": [
       "<Figure size 432x288 with 1 Axes>"
      ]
     },
     "metadata": {
      "needs_background": "light"
     },
     "output_type": "display_data"
    }
   ],
   "source": [
    "boxplot = admissions.boxplot(column=['admission_points'], return_type='axes')"
   ]
  },
  {
   "cell_type": "code",
   "execution_count": 54,
   "metadata": {},
   "outputs": [
    {
     "data": {
      "image/png": "[encoded data removed]",
      "text/plain": [
       "<Figure size 432x288 with 1 Axes>"
      ]
     },
     "metadata": {
      "needs_background": "light"
     },
     "output_type": "display_data"
    }
   ],
   "source": [
    "boxplot = admissions.boxplot(column=['admissions_points_ext'], return_type='axes')"
   ]
  },
  {
   "cell_type": "markdown",
   "metadata": {},
   "source": [
    "### Rozdelenie dát na bakalársku a inžiniersku časť"
   ]
  },
  {
   "cell_type": "code",
   "execution_count": null,
   "metadata": {},
   "outputs": [],
   "source": [
    "# rozdelenie datasetov na bakalárov a inžinierov\n",
    "admissions_bachelor = admissions[admissions['stupen_studia'] == 'Bakalársky']\n",
    "admissions_master = admissions[admissions['stupen_studia'] == 'Inžiniersky']"
   ]
  },
  {
   "cell_type": "code",
   "execution_count": null,
   "metadata": {},
   "outputs": [],
   "source": [
    "# stĺpec stupeň štúdia viac nepotrebujeme (jedná sa o dataset bakalárov)\n",
    "admissions_bachelor.drop('stupen_studia', axis = 1, inplace = True)\n",
    "admissions_master.drop('stupen_studia', axis = 1,  inplace = True)"
   ]
  },
  {
   "cell_type": "code",
   "execution_count": null,
   "metadata": {},
   "outputs": [],
   "source": [
    "# spojenie prihlášok a známok - známky ako stĺpce do prihlášok\n",
    "admissions_bachelor = pd.merge(admissions_bachelor, adjusted_grades_first_year_bachelor, left_index=True, right_index=True)"
   ]
  },
  {
   "cell_type": "code",
   "execution_count": null,
   "metadata": {},
   "outputs": [],
   "source": [
    "# spojenie prihlášok a dochádzky - dochádzka ako stĺpce do prihlášok\n",
    "admissions_bachelor = pd.merge(admissions_bachelor, adjusted_attendances_first_year_bachelor, left_index=True, right_index=True)"
   ]
  },
  {
   "cell_type": "markdown",
   "metadata": {},
   "source": [
    "## Doplňkové predspracovanie pre bakalárske dáta"
   ]
  },
  {
   "cell_type": "code",
   "execution_count": null,
   "metadata": {},
   "outputs": [],
   "source": [
    "admissions_bachelor.head()"
   ]
  },
  {
   "cell_type": "code",
   "execution_count": null,
   "metadata": {},
   "outputs": [],
   "source": [
    "# odstránenie všetkých riadkov s rovnakými hodnotami v každom atribúte\n",
    "nunique = admissions_bachelor.apply(pd.Series.nunique)\n",
    "cols_to_drop = nunique[nunique == 1].index\n",
    "admissions_bachelor.drop(cols_to_drop, axis=1, inplace = True)"
   ]
  },
  {
   "cell_type": "code",
   "execution_count": null,
   "metadata": {},
   "outputs": [],
   "source": [
    "# keep only mandatory subjects or drop all compulsory subjects\n",
    "#mandatory_subjects = [\n",
    "#    'ADM_B', 'AJ_B', 'MA_B', 'MIP_B', 'PPI_B', 'PRPR_B', 'DSA_B', 'OS_B', 'PAS_B', 'PIKT_B', 'PKS_B', \n",
    "#    'BIT_B', 'ICP_B', 'ME_B', 'PSIP_B', 'IVZDEL_B', 'SMAT1_B', 'UMZI_B', 'ZMTMO_B', 'ZPRPR1_B', 'SEMAP2_B', \n",
    "#    'ZOOP_B', 'FYZ_B', 'ML1_B', 'OOP_B', 'PAM_B', 'TZIV_B', 'DBS_B', 'PIB_B', 'PSI_B', 'AZA_B', 'UI_B', \n",
    "#    'MBVIT_B', 'PIS_B', 'SEMAP1_B', 'SMAT2_B', 'UMA_B', 'ZPRPR2_B', 'ZPS_B', 'ZTIAPL_B', 'ELN_B', 'SPRO_B', \n",
    "#    'WANT_B', 'TZI_B', 'SEMPRPR_B'\n",
    "#]\n",
    "\n",
    "#admissions_bachelor.drop(compulsory_subjects, axis = 1, inplace = True)"
   ]
  },
  {
   "cell_type": "markdown",
   "metadata": {},
   "source": [
    "### Chýbajúce hodnoty"
   ]
  },
  {
   "cell_type": "code",
   "execution_count": null,
   "metadata": {},
   "outputs": [],
   "source": [
    "admissions_bachelor.isnull().sum()"
   ]
  },
  {
   "cell_type": "code",
   "execution_count": null,
   "metadata": {
    "scrolled": true
   },
   "outputs": [],
   "source": [
    "admissions_bachelor[pd.isnull(admissions_bachelor).any(axis=1)]"
   ]
  },
  {
   "cell_type": "code",
   "execution_count": null,
   "metadata": {},
   "outputs": [],
   "source": [
    "# vyriešenie chýbajúcich hodnôt v stĺpci 'admission_from'\n",
    "mode = admissions_bachelor['admission_from'].mode()\n",
    "admissions_bachelor['admission_from'].fillna(value = mode[0], inplace = True)"
   ]
  },
  {
   "cell_type": "code",
   "execution_count": null,
   "metadata": {},
   "outputs": [],
   "source": [
    "# z indexu ktorý pozostáva z AIS_ID sme spravili stĺpec, aby sme on AIS_ID neprišli pri ďalšom merge\n",
    "admissions_bachelor.reset_index(level=0, inplace=True)"
   ]
  },
  {
   "cell_type": "markdown",
   "metadata": {},
   "source": [
    "# Oversampling"
   ]
  },
  {
   "cell_type": "code",
   "execution_count": null,
   "metadata": {},
   "outputs": [],
   "source": [
    "admissions_bachelor['AIS_ID'].value_counts()"
   ]
  },
  {
   "cell_type": "code",
   "execution_count": null,
   "metadata": {},
   "outputs": [],
   "source": [
    "admissions_bachelor.shape"
   ]
  },
  {
   "cell_type": "code",
   "execution_count": null,
   "metadata": {},
   "outputs": [],
   "source": [
    "len(admissions_bachelor['school_id'].unique())"
   ]
  },
  {
   "cell_type": "code",
   "execution_count": null,
   "metadata": {},
   "outputs": [],
   "source": [
    "admissions_bachelor['end_type'].value_counts()"
   ]
  },
  {
   "cell_type": "code",
   "execution_count": null,
   "metadata": {},
   "outputs": [],
   "source": [
    "admissions_bachelor.isnull().sum()"
   ]
  },
  {
   "cell_type": "code",
   "execution_count": null,
   "metadata": {},
   "outputs": [],
   "source": [
    "admissions_bachelor.dropna(inplace = True)"
   ]
  },
  {
   "cell_type": "code",
   "execution_count": null,
   "metadata": {},
   "outputs": [],
   "source": [
    "admissions_bachelor.isnull().sum()"
   ]
  },
  {
   "cell_type": "code",
   "execution_count": null,
   "metadata": {},
   "outputs": [],
   "source": [
    "admissions_bachelor['school_id'] = admissions_bachelor['school_id'].astype('object')"
   ]
  },
  {
   "cell_type": "code",
   "execution_count": null,
   "metadata": {},
   "outputs": [],
   "source": [
    "from imblearn.over_sampling import SMOTENC\n",
    "categorical_features = ['school_id', 'education_achieved', 'sex', 'nationality', 'admission_from', 'study_programme']\n",
    "sm = SMOTENC(random_state = 42, categorical_features = [admissions_bachelor.dtypes==object])\n",
    "\n",
    "X = admissions_bachelor.drop('end_type', axis = 1)\n",
    "y = admissions_bachelor['end_type']\n",
    "\n",
    "X_oversampled, y_oversampled = sm.fit_sample(X, y)\n",
    "\n",
    "admissions_bachelor = X_oversampled\n",
    "admissions_bachelor['end_type'] = y_oversampled"
   ]
  },
  {
   "cell_type": "code",
   "execution_count": null,
   "metadata": {},
   "outputs": [],
   "source": [
    "admissions_bachelor.shape"
   ]
  },
  {
   "cell_type": "code",
   "execution_count": null,
   "metadata": {},
   "outputs": [],
   "source": [
    "admissions_bachelor['end_type'].value_counts()"
   ]
  },
  {
   "cell_type": "code",
   "execution_count": null,
   "metadata": {},
   "outputs": [],
   "source": [
    "len(admissions_bachelor['school_id'].unique())"
   ]
  },
  {
   "cell_type": "code",
   "execution_count": null,
   "metadata": {},
   "outputs": [],
   "source": [
    "admissions_bachelor"
   ]
  },
  {
   "cell_type": "markdown",
   "metadata": {},
   "source": [
    "### Prevod kategorických dát na numerické"
   ]
  },
  {
   "cell_type": "code",
   "execution_count": null,
   "metadata": {},
   "outputs": [],
   "source": [
    "from sklearn.preprocessing import LabelEncoder\n",
    "le = LabelEncoder()\n",
    "\n",
    "categorical_cols = [\n",
    "    'education_achieved', 'sex', 'nationality', 'admission_from', 'study_programme', 'end_type'\n",
    "]\n",
    "\n",
    "# apply le on categorical feature columns\n",
    "admissions_bachelor[categorical_cols] = admissions_bachelor[categorical_cols].apply(lambda col: le.fit_transform(col))"
   ]
  },
  {
   "cell_type": "code",
   "execution_count": null,
   "metadata": {},
   "outputs": [],
   "source": [
    "admissions_bachelor.info()"
   ]
  },
  {
   "cell_type": "code",
   "execution_count": null,
   "metadata": {},
   "outputs": [],
   "source": [
    "admissions_bachelor"
   ]
  },
  {
   "cell_type": "markdown",
   "metadata": {},
   "source": [
    "# Pridanie dát zo škôl k prihláškam"
   ]
  },
  {
   "cell_type": "markdown",
   "metadata": {},
   "source": [
    "Tento krok musíme robiť až po resamplingu a to z toho dôvodu, že aplikovaním resamplingu na tieto dáta by mohlo vytvoriť nesprávne, respektíve chybné a nepravdivé záznamy. Príkladom môže byť záznam ktorý by mal školu, ktorej ukazovatele by sedeli s realitou."
   ]
  },
  {
   "cell_type": "code",
   "execution_count": null,
   "metadata": {},
   "outputs": [],
   "source": [
    "admissions_bachelor"
   ]
  },
  {
   "cell_type": "code",
   "execution_count": null,
   "metadata": {},
   "outputs": [],
   "source": [
    "admissions_bachelor = pd.merge(admissions_bachelor, school_total_ratings, on=['school_id', 'school_id'])"
   ]
  },
  {
   "cell_type": "code",
   "execution_count": null,
   "metadata": {},
   "outputs": [],
   "source": [
    "admissions_bachelor.drop('school_id', axis = 1, inplace = True)"
   ]
  },
  {
   "cell_type": "code",
   "execution_count": null,
   "metadata": {},
   "outputs": [],
   "source": [
    "admissions_bachelor"
   ]
  },
  {
   "cell_type": "markdown",
   "metadata": {},
   "source": [
    "## Doplňkové predspracovanie pre inžinierske dáta"
   ]
  },
  {
   "cell_type": "code",
   "execution_count": null,
   "metadata": {},
   "outputs": [],
   "source": [
    "admissions_master.head()"
   ]
  },
  {
   "cell_type": "code",
   "execution_count": null,
   "metadata": {},
   "outputs": [],
   "source": [
    "# TODO\n",
    "# Potrebujem udaje z o strednej školy? (z tabuliek ineko_...)\n",
    "# Udaje ako maturita, body z prijimacieho konania a pod? \n",
    "# Mame niekde atribut či dany človek u nas ukončil bc/ing studium? \n",
    "# mame nejake udaje \"socialne\" o studentoch? \n",
    "\n",
    "# Vplyv prijimaciek klesa\n",
    "# Pozerat sa hlavne na poviine predmety\n",
    "# Pvinne volitelne len agregacia"
   ]
  },
  {
   "cell_type": "code",
   "execution_count": null,
   "metadata": {},
   "outputs": [],
   "source": [
    "# Drop high school data\n",
    "# TODO"
   ]
  },
  {
   "cell_type": "markdown",
   "metadata": {},
   "source": [
    "# CSV Export"
   ]
  },
  {
   "cell_type": "code",
   "execution_count": null,
   "metadata": {},
   "outputs": [],
   "source": [
    "admissions_bachelor.head()"
   ]
  },
  {
   "cell_type": "code",
   "execution_count": null,
   "metadata": {},
   "outputs": [],
   "source": [
    "admissions_bachelor.to_csv(path_or_buf='./datasets/bachelor_data.csv', index=True)"
   ]
  },
  {
   "cell_type": "code",
   "execution_count": null,
   "metadata": {},
   "outputs": [],
   "source": [
    "admissions_master.to_csv(path_or_buf='./datasets/master_data.csv', index=True)"
   ]
  },
  {
   "cell_type": "code",
   "execution_count": null,
   "metadata": {},
   "outputs": [],
   "source": []
  },
  {
   "cell_type": "code",
   "execution_count": null,
   "metadata": {},
   "outputs": [],
   "source": []
  },
  {
   "cell_type": "code",
   "execution_count": null,
   "metadata": {},
   "outputs": [],
   "source": []
  },
  {
   "cell_type": "code",
   "execution_count": null,
   "metadata": {},
   "outputs": [],
   "source": []
  }
 ],
 "metadata": {
  "kernelspec": {
   "display_name": "Python 3",
   "language": "python",
   "name": "python3"
  },
  "language_info": {
   "codemirror_mode": {
    "name": "ipython",
    "version": 3
   },
   "file_extension": ".py",
   "mimetype": "text/x-python",
   "name": "python",
   "nbconvert_exporter": "python",
   "pygments_lexer": "ipython3",
   "version": "3.8.3"
  }
 },
 "nbformat": 4,
 "nbformat_minor": 2
}

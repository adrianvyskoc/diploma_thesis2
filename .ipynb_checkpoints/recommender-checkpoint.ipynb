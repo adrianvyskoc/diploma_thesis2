{
 "cells": [
  {
   "cell_type": "code",
   "execution_count": 2,
   "metadata": {},
   "outputs": [],
   "source": [
    "import pandas as pd\n",
    "import numpy as np"
   ]
  },
  {
   "cell_type": "code",
   "execution_count": 3,
   "metadata": {},
   "outputs": [
    {
     "name": "stderr",
     "output_type": "stream",
     "text": [
      "/usr/local/lib/python3.7/site-packages/IPython/core/interactiveshell.py:3058: DtypeWarning: Columns (5) have mixed types. Specify dtype option on import or set low_memory=False.\n",
      "  interactivity=interactivity, compiler=compiler, result=result)\n"
     ]
    }
   ],
   "source": [
    "df_events_train = pd.read_csv('./vi_data/events_train.csv')\n",
    "df_purchases_train = pd.read_csv('./vi_data/purchases_train.csv')"
   ]
  },
  {
   "cell_type": "markdown",
   "metadata": {},
   "source": [
    "# Data preview"
   ]
  },
  {
   "cell_type": "code",
   "execution_count": 4,
   "metadata": {},
   "outputs": [
    {
     "data": {
      "text/html": [
       "<div>\n",
       "<style scoped>\n",
       "    .dataframe tbody tr th:only-of-type {\n",
       "        vertical-align: middle;\n",
       "    }\n",
       "\n",
       "    .dataframe tbody tr th {\n",
       "        vertical-align: top;\n",
       "    }\n",
       "\n",
       "    .dataframe thead th {\n",
       "        text-align: right;\n",
       "    }\n",
       "</style>\n",
       "<table border=\"1\" class=\"dataframe\">\n",
       "  <thead>\n",
       "    <tr style=\"text-align: right;\">\n",
       "      <th></th>\n",
       "      <th>customer_id</th>\n",
       "      <th>timestamp</th>\n",
       "      <th>event_type</th>\n",
       "      <th>product_id</th>\n",
       "      <th>title</th>\n",
       "      <th>category_name</th>\n",
       "      <th>price</th>\n",
       "    </tr>\n",
       "  </thead>\n",
       "  <tbody>\n",
       "    <tr>\n",
       "      <th>0</th>\n",
       "      <td>204685f9-00f0-4a36-bab1-e0b74673c3b1</td>\n",
       "      <td>2019-07-01 00:00:01.101977 UTC</td>\n",
       "      <td>view_item</td>\n",
       "      <td>f130c542-d793-41d0-88f6-d1c52b4fe8f0</td>\n",
       "      <td>Michael Kors Nappa Leather Racer Jacket</td>\n",
       "      <td>NaN</td>\n",
       "      <td>747.49</td>\n",
       "    </tr>\n",
       "    <tr>\n",
       "      <th>1</th>\n",
       "      <td>552445a5-f41d-4b25-b479-4e776d9bee61</td>\n",
       "      <td>2019-07-01 00:00:01.901589 UTC</td>\n",
       "      <td>view_item</td>\n",
       "      <td>29db8f57-49bd-4108-a0bb-0d245278e999</td>\n",
       "      <td>Puma Woven Shorts Girls</td>\n",
       "      <td>NaN</td>\n",
       "      <td>11.92</td>\n",
       "    </tr>\n",
       "    <tr>\n",
       "      <th>2</th>\n",
       "      <td>fac01f48-a03a-41f2-acd5-b5f4e407d9c2</td>\n",
       "      <td>2019-07-01 00:00:08.954928 UTC</td>\n",
       "      <td>view_item</td>\n",
       "      <td>a90bddc4-8eb7-4c99-aa4f-2f2377c246a2</td>\n",
       "      <td>Trendyol Multi-colored Flywheel Detailed Swimwear</td>\n",
       "      <td>NaN</td>\n",
       "      <td>23.85</td>\n",
       "    </tr>\n",
       "    <tr>\n",
       "      <th>3</th>\n",
       "      <td>552445a5-f41d-4b25-b479-4e776d9bee61</td>\n",
       "      <td>2019-07-01 00:00:09.721589 UTC</td>\n",
       "      <td>view_item</td>\n",
       "      <td>600268e1-a2ba-4b1b-ab57-58c577412af0</td>\n",
       "      <td>Puma Woven Shorts Girls</td>\n",
       "      <td>NaN</td>\n",
       "      <td>11.92</td>\n",
       "    </tr>\n",
       "    <tr>\n",
       "      <th>4</th>\n",
       "      <td>bc59a341-040f-41ea-8f33-cc4a02c2d85d</td>\n",
       "      <td>2019-07-01 00:00:13.745257 UTC</td>\n",
       "      <td>view_item</td>\n",
       "      <td>b74e0b38-1efe-4d86-9718-952cc2580212</td>\n",
       "      <td>Women's dress ROXY NEW LEASEOFLIFE J KTDR</td>\n",
       "      <td>NaN</td>\n",
       "      <td>40.00</td>\n",
       "    </tr>\n",
       "  </tbody>\n",
       "</table>\n",
       "</div>"
      ],
      "text/plain": [
       "                            customer_id                       timestamp  \\\n",
       "0  204685f9-00f0-4a36-bab1-e0b74673c3b1  2019-07-01 00:00:01.101977 UTC   \n",
       "1  552445a5-f41d-4b25-b479-4e776d9bee61  2019-07-01 00:00:01.901589 UTC   \n",
       "2  fac01f48-a03a-41f2-acd5-b5f4e407d9c2  2019-07-01 00:00:08.954928 UTC   \n",
       "3  552445a5-f41d-4b25-b479-4e776d9bee61  2019-07-01 00:00:09.721589 UTC   \n",
       "4  bc59a341-040f-41ea-8f33-cc4a02c2d85d  2019-07-01 00:00:13.745257 UTC   \n",
       "\n",
       "  event_type                            product_id  \\\n",
       "0  view_item  f130c542-d793-41d0-88f6-d1c52b4fe8f0   \n",
       "1  view_item  29db8f57-49bd-4108-a0bb-0d245278e999   \n",
       "2  view_item  a90bddc4-8eb7-4c99-aa4f-2f2377c246a2   \n",
       "3  view_item  600268e1-a2ba-4b1b-ab57-58c577412af0   \n",
       "4  view_item  b74e0b38-1efe-4d86-9718-952cc2580212   \n",
       "\n",
       "                                               title category_name   price  \n",
       "0            Michael Kors Nappa Leather Racer Jacket           NaN  747.49  \n",
       "1                            Puma Woven Shorts Girls           NaN   11.92  \n",
       "2  Trendyol Multi-colored Flywheel Detailed Swimwear           NaN   23.85  \n",
       "3                            Puma Woven Shorts Girls           NaN   11.92  \n",
       "4          Women's dress ROXY NEW LEASEOFLIFE J KTDR           NaN   40.00  "
      ]
     },
     "execution_count": 4,
     "metadata": {},
     "output_type": "execute_result"
    }
   ],
   "source": [
    "df_events_train.head()"
   ]
  },
  {
   "cell_type": "code",
   "execution_count": 5,
   "metadata": {},
   "outputs": [
    {
     "data": {
      "text/html": [
       "<div>\n",
       "<style scoped>\n",
       "    .dataframe tbody tr th:only-of-type {\n",
       "        vertical-align: middle;\n",
       "    }\n",
       "\n",
       "    .dataframe tbody tr th {\n",
       "        vertical-align: top;\n",
       "    }\n",
       "\n",
       "    .dataframe thead th {\n",
       "        text-align: right;\n",
       "    }\n",
       "</style>\n",
       "<table border=\"1\" class=\"dataframe\">\n",
       "  <thead>\n",
       "    <tr style=\"text-align: right;\">\n",
       "      <th></th>\n",
       "      <th>customer_id</th>\n",
       "      <th>timestamp</th>\n",
       "      <th>event_type</th>\n",
       "      <th>product_id</th>\n",
       "      <th>title</th>\n",
       "      <th>category_name</th>\n",
       "      <th>price</th>\n",
       "    </tr>\n",
       "  </thead>\n",
       "  <tbody>\n",
       "    <tr>\n",
       "      <th>0</th>\n",
       "      <td>0d1b7397-7d3c-44c0-9efc-d38bf197828b</td>\n",
       "      <td>2019-07-01 00:05:54.308966 UTC</td>\n",
       "      <td>purchase_item</td>\n",
       "      <td>954f9f2c-d3ca-4236-ac9a-4ea7bcf09305</td>\n",
       "      <td>Trendyol Leopard print Bikini bottom</td>\n",
       "      <td>NaN</td>\n",
       "      <td>NaN</td>\n",
       "    </tr>\n",
       "    <tr>\n",
       "      <th>1</th>\n",
       "      <td>81ccae7e-e496-4997-a289-4669bf53f33e</td>\n",
       "      <td>2019-07-01 00:20:03.404186 UTC</td>\n",
       "      <td>purchase_item</td>\n",
       "      <td>75b281e5-8a16-42cb-9ae0-9a98db7a2c40</td>\n",
       "      <td>No Fear Reflect Shorts Mens</td>\n",
       "      <td>NaN</td>\n",
       "      <td>NaN</td>\n",
       "    </tr>\n",
       "    <tr>\n",
       "      <th>2</th>\n",
       "      <td>50777c55-8dd6-4309-a5ca-26e66c8a8279</td>\n",
       "      <td>2019-07-01 00:34:35.989935 UTC</td>\n",
       "      <td>purchase_item</td>\n",
       "      <td>0112dec8-47f5-4c2c-9109-571e2dbb6345</td>\n",
       "      <td>Trendyol Multicolor camisole Blouse</td>\n",
       "      <td>NaN</td>\n",
       "      <td>NaN</td>\n",
       "    </tr>\n",
       "    <tr>\n",
       "      <th>3</th>\n",
       "      <td>50777c55-8dd6-4309-a5ca-26e66c8a8279</td>\n",
       "      <td>2019-07-01 00:34:35.991935 UTC</td>\n",
       "      <td>purchase_item</td>\n",
       "      <td>0fa25a2d-2aa1-4397-82f1-5a64f3b1272d</td>\n",
       "      <td>Trendyol White High Waist Skinny Jeans</td>\n",
       "      <td>NaN</td>\n",
       "      <td>NaN</td>\n",
       "    </tr>\n",
       "    <tr>\n",
       "      <th>4</th>\n",
       "      <td>647d269f-b18f-4558-8653-93369d862ec9</td>\n",
       "      <td>2019-07-01 00:52:53.083698 UTC</td>\n",
       "      <td>purchase_item</td>\n",
       "      <td>81c01216-55a9-4588-a722-bccf0bf35fd5</td>\n",
       "      <td>Firetrap Lazer Polo Shirt</td>\n",
       "      <td>NaN</td>\n",
       "      <td>NaN</td>\n",
       "    </tr>\n",
       "  </tbody>\n",
       "</table>\n",
       "</div>"
      ],
      "text/plain": [
       "                            customer_id                       timestamp  \\\n",
       "0  0d1b7397-7d3c-44c0-9efc-d38bf197828b  2019-07-01 00:05:54.308966 UTC   \n",
       "1  81ccae7e-e496-4997-a289-4669bf53f33e  2019-07-01 00:20:03.404186 UTC   \n",
       "2  50777c55-8dd6-4309-a5ca-26e66c8a8279  2019-07-01 00:34:35.989935 UTC   \n",
       "3  50777c55-8dd6-4309-a5ca-26e66c8a8279  2019-07-01 00:34:35.991935 UTC   \n",
       "4  647d269f-b18f-4558-8653-93369d862ec9  2019-07-01 00:52:53.083698 UTC   \n",
       "\n",
       "      event_type                            product_id  \\\n",
       "0  purchase_item  954f9f2c-d3ca-4236-ac9a-4ea7bcf09305   \n",
       "1  purchase_item  75b281e5-8a16-42cb-9ae0-9a98db7a2c40   \n",
       "2  purchase_item  0112dec8-47f5-4c2c-9109-571e2dbb6345   \n",
       "3  purchase_item  0fa25a2d-2aa1-4397-82f1-5a64f3b1272d   \n",
       "4  purchase_item  81c01216-55a9-4588-a722-bccf0bf35fd5   \n",
       "\n",
       "                                    title category_name  price  \n",
       "0    Trendyol Leopard print Bikini bottom           NaN    NaN  \n",
       "1             No Fear Reflect Shorts Mens           NaN    NaN  \n",
       "2     Trendyol Multicolor camisole Blouse           NaN    NaN  \n",
       "3  Trendyol White High Waist Skinny Jeans           NaN    NaN  \n",
       "4               Firetrap Lazer Polo Shirt           NaN    NaN  "
      ]
     },
     "execution_count": 5,
     "metadata": {},
     "output_type": "execute_result"
    }
   ],
   "source": [
    "df_purchases_train.head()"
   ]
  },
  {
   "cell_type": "markdown",
   "metadata": {},
   "source": [
    "## Data info"
   ]
  },
  {
   "cell_type": "code",
   "execution_count": 6,
   "metadata": {},
   "outputs": [
    {
     "name": "stdout",
     "output_type": "stream",
     "text": [
      "<class 'pandas.core.frame.DataFrame'>\n",
      "RangeIndex: 14614385 entries, 0 to 14614384\n",
      "Data columns (total 7 columns):\n",
      "customer_id      object\n",
      "timestamp        object\n",
      "event_type       object\n",
      "product_id       object\n",
      "title            object\n",
      "category_name    object\n",
      "price            float64\n",
      "dtypes: float64(1), object(6)\n",
      "memory usage: 780.5+ MB\n"
     ]
    }
   ],
   "source": [
    "df_events_train.info()"
   ]
  },
  {
   "cell_type": "code",
   "execution_count": 7,
   "metadata": {},
   "outputs": [
    {
     "name": "stdout",
     "output_type": "stream",
     "text": [
      "<class 'pandas.core.frame.DataFrame'>\n",
      "RangeIndex: 188712 entries, 0 to 188711\n",
      "Data columns (total 7 columns):\n",
      "customer_id      188712 non-null object\n",
      "timestamp        188712 non-null object\n",
      "event_type       188712 non-null object\n",
      "product_id       188712 non-null object\n",
      "title            188684 non-null object\n",
      "category_name    143814 non-null object\n",
      "price            143826 non-null float64\n",
      "dtypes: float64(1), object(6)\n",
      "memory usage: 10.1+ MB\n"
     ]
    }
   ],
   "source": [
    "df_purchases_train.info()"
   ]
  },
  {
   "cell_type": "code",
   "execution_count": 8,
   "metadata": {},
   "outputs": [],
   "source": [
    "# sort data by date (timestamp)\n",
    "df_events_train.sort_values(by=['timestamp'], inplace=True, ascending=False)"
   ]
  },
  {
   "cell_type": "code",
   "execution_count": 9,
   "metadata": {},
   "outputs": [
    {
     "data": {
      "text/html": [
       "<div>\n",
       "<style scoped>\n",
       "    .dataframe tbody tr th:only-of-type {\n",
       "        vertical-align: middle;\n",
       "    }\n",
       "\n",
       "    .dataframe tbody tr th {\n",
       "        vertical-align: top;\n",
       "    }\n",
       "\n",
       "    .dataframe thead th {\n",
       "        text-align: right;\n",
       "    }\n",
       "</style>\n",
       "<table border=\"1\" class=\"dataframe\">\n",
       "  <thead>\n",
       "    <tr style=\"text-align: right;\">\n",
       "      <th></th>\n",
       "      <th>customer_id</th>\n",
       "      <th>timestamp</th>\n",
       "      <th>event_type</th>\n",
       "      <th>product_id</th>\n",
       "      <th>title</th>\n",
       "      <th>category_name</th>\n",
       "      <th>price</th>\n",
       "    </tr>\n",
       "  </thead>\n",
       "  <tbody>\n",
       "    <tr>\n",
       "      <th>14614384</th>\n",
       "      <td>9178895a-a747-4f40-953f-990ba97ff83a</td>\n",
       "      <td>2019-08-31 23:59:59.536067 UTC</td>\n",
       "      <td>view_item</td>\n",
       "      <td>785c2d4e-ef0f-4562-a690-96836eaf3b75</td>\n",
       "      <td>Nike Mercurial Vapor Academy Mens FG Football ...</td>\n",
       "      <td>Sports&gt;Football&gt;Football Footwear&gt;Grass Footba...</td>\n",
       "      <td>93.15</td>\n",
       "    </tr>\n",
       "    <tr>\n",
       "      <th>14614383</th>\n",
       "      <td>a099b544-64d5-451b-a424-7130ff97f765</td>\n",
       "      <td>2019-08-31 23:59:59.197457 UTC</td>\n",
       "      <td>view_item</td>\n",
       "      <td>60a2b46b-722b-4433-a65f-857e82a0ddab</td>\n",
       "      <td>Lee Cooper Riv Boots Mens</td>\n",
       "      <td>Men&gt;Men Footwear&gt;Ankle shoes&gt;Casual</td>\n",
       "      <td>24.15</td>\n",
       "    </tr>\n",
       "    <tr>\n",
       "      <th>14614382</th>\n",
       "      <td>c09ad440-ba4e-4748-94e8-8bb3127a7a6f</td>\n",
       "      <td>2019-08-31 23:59:56.68595 UTC</td>\n",
       "      <td>view_item</td>\n",
       "      <td>0ca17844-38c2-4382-a506-1a53b223f655</td>\n",
       "      <td>USA Pro Quilted Gilet Junior Girls</td>\n",
       "      <td>Children&gt;Girl's Clothing&gt;Jackets&gt;Vests</td>\n",
       "      <td>28.12</td>\n",
       "    </tr>\n",
       "    <tr>\n",
       "      <th>14614381</th>\n",
       "      <td>72b72580-2b3f-42cd-97d0-3d24816b33ba</td>\n",
       "      <td>2019-08-31 23:59:55.097722 UTC</td>\n",
       "      <td>view_item</td>\n",
       "      <td>804fae53-29a4-46f2-bd3d-24c04bbc34df</td>\n",
       "      <td>Women's Bag WOOX Mendica</td>\n",
       "      <td>Accessories &gt;Backpacks and Bags&gt;Handbags</td>\n",
       "      <td>33.53</td>\n",
       "    </tr>\n",
       "    <tr>\n",
       "      <th>14614380</th>\n",
       "      <td>a4b26314-669e-46dd-92a5-9f1258eb5c81</td>\n",
       "      <td>2019-08-31 23:59:54.598017 UTC</td>\n",
       "      <td>view_item</td>\n",
       "      <td>d451d3e2-eabe-4f21-a4ff-289c756d87a1</td>\n",
       "      <td>Adidas Club T Shirt Mens</td>\n",
       "      <td>Men&gt;Men Clothing&gt;T-Shirts &amp; Polo shirts&gt;Short ...</td>\n",
       "      <td>38.25</td>\n",
       "    </tr>\n",
       "  </tbody>\n",
       "</table>\n",
       "</div>"
      ],
      "text/plain": [
       "                                   customer_id  \\\n",
       "14614384  9178895a-a747-4f40-953f-990ba97ff83a   \n",
       "14614383  a099b544-64d5-451b-a424-7130ff97f765   \n",
       "14614382  c09ad440-ba4e-4748-94e8-8bb3127a7a6f   \n",
       "14614381  72b72580-2b3f-42cd-97d0-3d24816b33ba   \n",
       "14614380  a4b26314-669e-46dd-92a5-9f1258eb5c81   \n",
       "\n",
       "                               timestamp event_type  \\\n",
       "14614384  2019-08-31 23:59:59.536067 UTC  view_item   \n",
       "14614383  2019-08-31 23:59:59.197457 UTC  view_item   \n",
       "14614382   2019-08-31 23:59:56.68595 UTC  view_item   \n",
       "14614381  2019-08-31 23:59:55.097722 UTC  view_item   \n",
       "14614380  2019-08-31 23:59:54.598017 UTC  view_item   \n",
       "\n",
       "                                    product_id  \\\n",
       "14614384  785c2d4e-ef0f-4562-a690-96836eaf3b75   \n",
       "14614383  60a2b46b-722b-4433-a65f-857e82a0ddab   \n",
       "14614382  0ca17844-38c2-4382-a506-1a53b223f655   \n",
       "14614381  804fae53-29a4-46f2-bd3d-24c04bbc34df   \n",
       "14614380  d451d3e2-eabe-4f21-a4ff-289c756d87a1   \n",
       "\n",
       "                                                      title  \\\n",
       "14614384  Nike Mercurial Vapor Academy Mens FG Football ...   \n",
       "14614383                          Lee Cooper Riv Boots Mens   \n",
       "14614382                 USA Pro Quilted Gilet Junior Girls   \n",
       "14614381                           Women's Bag WOOX Mendica   \n",
       "14614380                           Adidas Club T Shirt Mens   \n",
       "\n",
       "                                              category_name  price  \n",
       "14614384  Sports>Football>Football Footwear>Grass Footba...  93.15  \n",
       "14614383                Men>Men Footwear>Ankle shoes>Casual  24.15  \n",
       "14614382             Children>Girl's Clothing>Jackets>Vests  28.12  \n",
       "14614381           Accessories >Backpacks and Bags>Handbags  33.53  \n",
       "14614380  Men>Men Clothing>T-Shirts & Polo shirts>Short ...  38.25  "
      ]
     },
     "execution_count": 9,
     "metadata": {},
     "output_type": "execute_result"
    }
   ],
   "source": [
    "df_events_train.head()"
   ]
  },
  {
   "cell_type": "code",
   "execution_count": 10,
   "metadata": {},
   "outputs": [
    {
     "data": {
      "text/plain": [
       "0                                                       NaN\n",
       "1                                                       NaN\n",
       "2                                                       NaN\n",
       "3                                                       NaN\n",
       "4                                                       NaN\n",
       "                                ...                        \n",
       "188707    Women>Women's Clothing>Swimmsuits & bikins>One...\n",
       "188708    Women>Women's Clothing>Swimmsuits & bikins>One...\n",
       "188709    Women>Women's Clothing>Swimmsuits & bikins>One...\n",
       "188710    Women>Women's Clothing>Swimmsuits & bikins>One...\n",
       "188711    Women>Women's Clothing>Swimmsuits & bikins>One...\n",
       "Name: category_name, Length: 188712, dtype: object"
      ]
     },
     "execution_count": 10,
     "metadata": {},
     "output_type": "execute_result"
    }
   ],
   "source": [
    "df_purchases_train['category_name']"
   ]
  },
  {
   "cell_type": "code",
   "execution_count": null,
   "metadata": {},
   "outputs": [],
   "source": []
  },
  {
   "cell_type": "code",
   "execution_count": null,
   "metadata": {},
   "outputs": [],
   "source": []
  }
 ],
 "metadata": {
  "kernelspec": {
   "display_name": "Python 3",
   "language": "python",
   "name": "python3"
  },
  "language_info": {
   "codemirror_mode": {
    "name": "ipython",
    "version": 3
   },
   "file_extension": ".py",
   "mimetype": "text/x-python",
   "name": "python",
   "nbconvert_exporter": "python",
   "pygments_lexer": "ipython3",
   "version": "3.7.0"
  }
 },
 "nbformat": 4,
 "nbformat_minor": 2
}

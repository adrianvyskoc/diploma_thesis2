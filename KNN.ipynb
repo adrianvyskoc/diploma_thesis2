{
 "cells": [
  {
   "cell_type": "code",
   "execution_count": 3,
   "metadata": {},
   "outputs": [],
   "source": [
    "import pandas as pd\n",
    "import numpy as np\n",
    "import matplotlib.pyplot as plt\n",
    "import seaborn\n",
    "\n",
    "from sklearn.metrics import accuracy_score\n",
    "from sklearn.metrics import f1_score   \n",
    "from sklearn.metrics import precision_score\n",
    "from sklearn.metrics import recall_score\n",
    "\n",
    "from sklearn.neighbors import KNeighborsClassifier"
   ]
  },
  {
   "cell_type": "code",
   "execution_count": 4,
   "metadata": {},
   "outputs": [],
   "source": [
    "%run model_builder.py\n",
    "%run utils.py"
   ]
  },
  {
   "cell_type": "markdown",
   "metadata": {},
   "source": [
    "# Load data"
   ]
  },
  {
   "cell_type": "code",
   "execution_count": 5,
   "metadata": {},
   "outputs": [],
   "source": [
    "admissions_bachelor = pd.read_csv('datasets/bachelor_data.csv')\n",
    "admissions_bachelor.set_index('AIS_ID', inplace = True)\n",
    "admissions_bachelor.dropna(inplace=True)"
   ]
  },
  {
   "cell_type": "markdown",
   "metadata": {},
   "source": [
    "# Additional preprocessing"
   ]
  },
  {
   "cell_type": "code",
   "execution_count": 6,
   "metadata": {},
   "outputs": [],
   "source": [
    "# attendance removal\n",
    "admissions_bachelor = admissions_bachelor.loc[:,~admissions_bachelor.columns.str.startswith('attd_')]"
   ]
  },
  {
   "cell_type": "code",
   "execution_count": 7,
   "metadata": {},
   "outputs": [],
   "source": [
    "# grades removal\n",
    "subject_cols = ['FYZ_B', 'OOP_B', 'PAM_B', 'PRPR_B', 'ZPRPR2_B', 'TZIV_B', 'ADM_B', 'AJ_B', 'MA_B', 'MIP_B', 'PPI_B']\n",
    "admissions_bachelor.drop(subject_cols, axis=1, inplace=True)"
   ]
  },
  {
   "cell_type": "markdown",
   "metadata": {},
   "source": [
    "# Dependent and independent variables separation"
   ]
  },
  {
   "cell_type": "code",
   "execution_count": 8,
   "metadata": {},
   "outputs": [],
   "source": [
    "independent_variable = 'end_type'\n",
    "y = admissions_bachelor[independent_variable]\n",
    "X = admissions_bachelor.drop(columns=[independent_variable])"
   ]
  },
  {
   "cell_type": "code",
   "execution_count": 9,
   "metadata": {},
   "outputs": [],
   "source": [
    "# old index removal\n",
    "X.drop('Unnamed: 0', axis=1, inplace=True)"
   ]
  },
  {
   "cell_type": "code",
   "execution_count": 10,
   "metadata": {},
   "outputs": [],
   "source": [
    "X['admissions_points_ext'] = X['admissions_points_ext'].astype('int')"
   ]
  },
  {
   "cell_type": "code",
   "execution_count": 11,
   "metadata": {},
   "outputs": [],
   "source": [
    "#X = X[['admissions_points_ext', 'admission_from', 'education_achieved']]"
   ]
  },
  {
   "cell_type": "markdown",
   "metadata": {},
   "source": [
    "## Odstránenie vybraných atribútov (experimentovanie)"
   ]
  },
  {
   "cell_type": "code",
   "execution_count": 12,
   "metadata": {},
   "outputs": [],
   "source": [
    "attrs_to_drop = ['study_programme',  'VŠP_štúdium', 'graduation_year'] #\n",
    "\n",
    "X.drop(attrs_to_drop, axis=1, inplace=True)"
   ]
  },
  {
   "cell_type": "markdown",
   "metadata": {},
   "source": [
    "# Normalizácia"
   ]
  },
  {
   "cell_type": "code",
   "execution_count": 18,
   "metadata": {},
   "outputs": [],
   "source": [
    "from sklearn import preprocessing\n",
    "X_normalized = preprocessing.normalize(X)\n",
    "X_normalized = pd.DataFrame(X_normalized, columns=X.columns)"
   ]
  },
  {
   "cell_type": "markdown",
   "metadata": {},
   "source": [
    "# Model initialization"
   ]
  },
  {
   "cell_type": "markdown",
   "metadata": {},
   "source": [
    "- 'uniform' : uniform weights. All points in each neighborhood are weighted equally.\n",
    "\n",
    "- 'distance' : weight points by the inverse of their distance. in this case, closer neighbors of a query point will have a greater influence than neighbors which are further away."
   ]
  },
  {
   "cell_type": "code",
   "execution_count": 19,
   "metadata": {},
   "outputs": [],
   "source": [
    "clf = KNeighborsClassifier()\n",
    "cv_params = {\n",
    "    'leaf_size': list(range(1,30)),\n",
    "    'n_neighbors': list(range(7,30)),\n",
    "    'p': [1, 2], # 1 - manhattan_distance, 2 - euclidean_distance\n",
    "    'weights': ['uniform', 'distance']\n",
    "}"
   ]
  },
  {
   "cell_type": "markdown",
   "metadata": {},
   "source": [
    "# Model training"
   ]
  },
  {
   "cell_type": "code",
   "execution_count": 29,
   "metadata": {},
   "outputs": [
    {
     "name": "stdout",
     "output_type": "stream",
     "text": [
      "Fitting optimization...\n",
      "Fitting 10 folds for each of 2668 candidates, totalling 26680 fits\n"
     ]
    },
    {
     "name": "stderr",
     "output_type": "stream",
     "text": [
      "[Parallel(n_jobs=-1)]: Using backend LokyBackend with 12 concurrent workers.\n",
      "[Parallel(n_jobs=-1)]: Done  26 tasks      | elapsed:    2.3s\n",
      "[Parallel(n_jobs=-1)]: Done 664 tasks      | elapsed:    3.9s\n",
      "[Parallel(n_jobs=-1)]: Done 2664 tasks      | elapsed:    7.5s\n",
      "[Parallel(n_jobs=-1)]: Done 5464 tasks      | elapsed:   12.0s\n",
      "[Parallel(n_jobs=-1)]: Done 9064 tasks      | elapsed:   17.9s\n",
      "[Parallel(n_jobs=-1)]: Done 13464 tasks      | elapsed:   24.6s\n",
      "[Parallel(n_jobs=-1)]: Done 18664 tasks      | elapsed:   32.6s\n",
      "[Parallel(n_jobs=-1)]: Done 24664 tasks      | elapsed:   42.0s\n",
      "[Parallel(n_jobs=-1)]: Done 26680 out of 26680 | elapsed:   45.2s finished\n"
     ]
    }
   ],
   "source": [
    "model_knn = ModelBuilder(clf, X, y)\\\n",
    "    .test_train_split(0.2)\\\n",
    "    .tune_hyperparameters(cv_params)\\\n",
    "    .train_model_with_optimization()\\\n",
    "    .predict()\\\n",
    "    .build()"
   ]
  },
  {
   "cell_type": "markdown",
   "metadata": {},
   "source": [
    "## Best estimator"
   ]
  },
  {
   "cell_type": "code",
   "execution_count": 30,
   "metadata": {},
   "outputs": [
    {
     "data": {
      "text/plain": [
       "{'leaf_size': 1, 'n_neighbors': 28, 'p': 1, 'weights': 'uniform'}"
      ]
     },
     "execution_count": 30,
     "metadata": {},
     "output_type": "execute_result"
    }
   ],
   "source": [
    "model_knn.optimization.best_params_"
   ]
  },
  {
   "cell_type": "markdown",
   "metadata": {},
   "source": [
    "# Visualization"
   ]
  },
  {
   "cell_type": "code",
   "execution_count": null,
   "metadata": {},
   "outputs": [],
   "source": []
  },
  {
   "cell_type": "markdown",
   "metadata": {},
   "source": [
    "# Evaluation"
   ]
  },
  {
   "cell_type": "markdown",
   "metadata": {},
   "source": [
    "Pri vyhodnocovaní KNN predikčného modelu sme experimentovali s hyperparametrom a n_neighbors. Postrehli sme, že algoritmus postupne zvyšoval hodnotu všetkých svojich metrík pri zvyšovaní hodnoty tohto atribútu. Postupne sme zvyšovali dolnú hranicu n_neighbors pri ladení hyperparametrov a sledovali sme výsledky modelu. Ako optimálnu hodnotu sme identifikovali hodnotu 8. Pri použití vyššej hodnoty sa nám hodnoty metrík buď ustálili. Rozhodli sme sa teda ďalej pracovať s hodnotou 8."
   ]
  },
  {
   "cell_type": "markdown",
   "metadata": {},
   "source": [
    "## Accuracy"
   ]
  },
  {
   "cell_type": "code",
   "execution_count": 31,
   "metadata": {},
   "outputs": [
    {
     "name": "stdout",
     "output_type": "stream",
     "text": [
      "0.7167235494880546\n"
     ]
    }
   ],
   "source": [
    "print(accuracy_score(model_knn.test_y, model_knn.pred_y))"
   ]
  },
  {
   "cell_type": "markdown",
   "metadata": {},
   "source": [
    "## Macro metrics"
   ]
  },
  {
   "cell_type": "code",
   "execution_count": 32,
   "metadata": {},
   "outputs": [
    {
     "name": "stdout",
     "output_type": "stream",
     "text": [
      "0.7368833761049329\n",
      "0.7442663922375772\n",
      "0.7162475934892947\n"
     ]
    }
   ],
   "source": [
    "print(precision_score(model_knn.test_y, model_knn.pred_y, average='macro'))\n",
    "print(recall_score(model_knn.test_y, model_knn.pred_y, average='macro'))\n",
    "print(f1_score(model_knn.test_y, model_knn.pred_y, average='macro'))"
   ]
  },
  {
   "cell_type": "markdown",
   "metadata": {},
   "source": [
    "## Micro metrics"
   ]
  },
  {
   "cell_type": "code",
   "execution_count": 33,
   "metadata": {},
   "outputs": [
    {
     "name": "stdout",
     "output_type": "stream",
     "text": [
      "0.7167235494880546\n",
      "0.7167235494880546\n",
      "0.7167235494880546\n"
     ]
    }
   ],
   "source": [
    "print(precision_score(model_knn.test_y, model_knn.pred_y, average='micro'))\n",
    "print(recall_score(model_knn.test_y, model_knn.pred_y, average='micro'))\n",
    "print(f1_score(model_knn.test_y, model_knn.pred_y, average='micro'))"
   ]
  },
  {
   "cell_type": "markdown",
   "metadata": {},
   "source": [
    "## Stratified K Fold"
   ]
  },
  {
   "cell_type": "code",
   "execution_count": 34,
   "metadata": {},
   "outputs": [
    {
     "name": "stdout",
     "output_type": "stream",
     "text": [
      "0.703 & 0.701 & 0.701 & 0.700 \\\\\n",
      "0.691 & 0.681 & 0.680 & 0.676 \\\\\n",
      "0.706 & 0.701 & 0.701 & 0.699 \\\\\n",
      "0.710 & 0.705 & 0.705 & 0.704 \\\\\n",
      "0.761 & 0.747 & 0.747 & 0.743 \\\\\n",
      "0.720 & 0.712 & 0.712 & 0.710 \\\\\n",
      "0.748 & 0.719 & 0.719 & 0.711 \\\\\n",
      "0.665 & 0.658 & 0.658 & 0.653 \\\\\n",
      "0.735 & 0.726 & 0.726 & 0.723 \\\\\n",
      "0.763 & 0.753 & 0.753 & 0.751 \\\\\n",
      "0.720 & 0.710 & 0.710 & 0.707 \\\\\n"
     ]
    }
   ],
   "source": [
    "make_stratified_k_fold(10, KNeighborsClassifier(**model_knn.optimization.best_params_), X, y)"
   ]
  },
  {
   "cell_type": "markdown",
   "metadata": {},
   "source": [
    "## ROC curve"
   ]
  },
  {
   "cell_type": "code",
   "execution_count": 26,
   "metadata": {},
   "outputs": [
    {
     "data": {
      "image/png": "[encoded data removed]",
      "text/plain": [
       "<Figure size 432x288 with 1 Axes>"
      ]
     },
     "metadata": {
      "needs_background": "light"
     },
     "output_type": "display_data"
    }
   ],
   "source": [
    "create_roc_curve(10, KNeighborsClassifier(**model_knn.optimization.best_params_), X, y)"
   ]
  },
  {
   "cell_type": "code",
   "execution_count": 54,
   "metadata": {},
   "outputs": [],
   "source": [
    "import matplotlib.pyplot as plt\n",
    "import pandas as pd\n",
    "from sklearn import datasets, neighbors\n",
    "from mlxtend.plotting import plot_decision_regions"
   ]
  },
  {
   "cell_type": "code",
   "execution_count": 55,
   "metadata": {},
   "outputs": [
    {
     "data": {
      "text/plain": [
       "admission_points                       float64\n",
       "admissions_points_ext                    int64\n",
       "education_achieved                       int64\n",
       "sex                                      int64\n",
       "nationality                              int64\n",
       "admission_from                           int64\n",
       "age                                      int64\n",
       "school_general_rating                  float64\n",
       "school_math_rating                     float64\n",
       "school_foreign_lang_rating             float64\n",
       "school_university_admissions_rating    float64\n",
       "school_finance_sources_rating          float64\n",
       "school_pedagogical_team                float64\n",
       "dtype: object"
      ]
     },
     "execution_count": 55,
     "metadata": {},
     "output_type": "execute_result"
    }
   ],
   "source": [
    "X.dtypes"
   ]
  },
  {
   "cell_type": "code",
   "execution_count": 56,
   "metadata": {},
   "outputs": [
    {
     "ename": "ValueError",
     "evalue": "Column(s) [ 3  4  5  6  7  8  9 10 11 12] need to be accounted for in either feature_index or filler_feature_values",
     "output_type": "error",
     "traceback": [
      "\u001b[0;31m---------------------------------------------------------------------------\u001b[0m",
      "\u001b[0;31mValueError\u001b[0m                                Traceback (most recent call last)",
      "\u001b[0;32m<ipython-input-56-6a89e1d47249>\u001b[0m in \u001b[0;36m<module>\u001b[0;34m\u001b[0m\n\u001b[1;32m      4\u001b[0m }\n\u001b[1;32m      5\u001b[0m \u001b[0;34m\u001b[0m\u001b[0m\n\u001b[0;32m----> 6\u001b[0;31m \u001b[0mplot_decision_regions\u001b[0m\u001b[0;34m(\u001b[0m\u001b[0mX\u001b[0m\u001b[0;34m.\u001b[0m\u001b[0mto_numpy\u001b[0m\u001b[0;34m(\u001b[0m\u001b[0;34m)\u001b[0m\u001b[0;34m,\u001b[0m \u001b[0my\u001b[0m\u001b[0;34m.\u001b[0m\u001b[0mto_numpy\u001b[0m\u001b[0;34m(\u001b[0m\u001b[0;34m)\u001b[0m\u001b[0;34m,\u001b[0m \u001b[0mclf\u001b[0m\u001b[0;34m=\u001b[0m\u001b[0mmodel_knn\u001b[0m\u001b[0;34m.\u001b[0m\u001b[0mclf\u001b[0m\u001b[0;34m,\u001b[0m \u001b[0mlegend\u001b[0m\u001b[0;34m=\u001b[0m\u001b[0;36m2\u001b[0m\u001b[0;34m,\u001b[0m\u001b[0mfiller_feature_values\u001b[0m\u001b[0;34m=\u001b[0m\u001b[0mfiller\u001b[0m\u001b[0;34m)\u001b[0m\u001b[0;34m\u001b[0m\u001b[0;34m\u001b[0m\u001b[0m\n\u001b[0m\u001b[1;32m      7\u001b[0m \u001b[0;31m# Adding axes annotations\u001b[0m\u001b[0;34m\u001b[0m\u001b[0;34m\u001b[0m\u001b[0;34m\u001b[0m\u001b[0m\n\u001b[1;32m      8\u001b[0m \u001b[0mplt\u001b[0m\u001b[0;34m.\u001b[0m\u001b[0mxlabel\u001b[0m\u001b[0;34m(\u001b[0m\u001b[0;34m'X'\u001b[0m\u001b[0;34m)\u001b[0m\u001b[0;34m\u001b[0m\u001b[0;34m\u001b[0m\u001b[0m\n",
      "\u001b[0;32m~/opt/anaconda3/envs/myenv/lib/python3.6/site-packages/mlxtend/plotting/decision_regions.py\u001b[0m in \u001b[0;36mplot_decision_regions\u001b[0;34m(X, y, clf, feature_index, filler_feature_values, filler_feature_ranges, ax, X_highlight, res, zoom_factor, legend, hide_spines, markers, colors, scatter_kwargs, contourf_kwargs, scatter_highlight_kwargs)\u001b[0m\n\u001b[1;32m    195\u001b[0m             raise ValueError(\n\u001b[1;32m    196\u001b[0m                 \u001b[0;34m'Column(s) {} need to be accounted for in either '\u001b[0m\u001b[0;34m\u001b[0m\u001b[0;34m\u001b[0m\u001b[0m\n\u001b[0;32m--> 197\u001b[0;31m                 'feature_index or filler_feature_values'.format(missing_cols))\n\u001b[0m\u001b[1;32m    198\u001b[0m \u001b[0;34m\u001b[0m\u001b[0m\n\u001b[1;32m    199\u001b[0m     \u001b[0mmarker_gen\u001b[0m \u001b[0;34m=\u001b[0m \u001b[0mcycle\u001b[0m\u001b[0;34m(\u001b[0m\u001b[0mlist\u001b[0m\u001b[0;34m(\u001b[0m\u001b[0mmarkers\u001b[0m\u001b[0;34m)\u001b[0m\u001b[0;34m)\u001b[0m\u001b[0;34m\u001b[0m\u001b[0;34m\u001b[0m\u001b[0m\n",
      "\u001b[0;31mValueError\u001b[0m: Column(s) [ 3  4  5  6  7  8  9 10 11 12] need to be accounted for in either feature_index or filler_feature_values"
     ]
    },
    {
     "data": {
      "image/png": "[encoded data removed]",
      "text/plain": [
       "<Figure size 432x288 with 1 Axes>"
      ]
     },
     "metadata": {
      "needs_background": "light"
     },
     "output_type": "display_data"
    }
   ],
   "source": [
    "# Plotting decision region\n",
    "filler = {\n",
    "    2:1,\n",
    "}\n",
    "\n",
    "plot_decision_regions(X.to_numpy(), y.to_numpy(), clf=model_knn.clf, legend=2,filler_feature_values=filler)\n",
    "# Adding axes annotations\n",
    "plt.xlabel('X')\n",
    "plt.ylabel('Y')\n",
    "plt.title('Knn with K')\n",
    "plt.show()"
   ]
  },
  {
   "cell_type": "code",
   "execution_count": null,
   "metadata": {},
   "outputs": [],
   "source": []
  },
  {
   "cell_type": "code",
   "execution_count": null,
   "metadata": {},
   "outputs": [],
   "source": []
  },
  {
   "cell_type": "code",
   "execution_count": null,
   "metadata": {},
   "outputs": [],
   "source": []
  }
 ],
 "metadata": {
  "kernelspec": {
   "display_name": "Python 3",
   "language": "python",
   "name": "python3"
  },
  "language_info": {
   "codemirror_mode": {
    "name": "ipython",
    "version": 3
   },
   "file_extension": ".py",
   "mimetype": "text/x-python",
   "name": "python",
   "nbconvert_exporter": "python",
   "pygments_lexer": "ipython3",
   "version": "3.6.10"
  }
 },
 "nbformat": 4,
 "nbformat_minor": 4
}
